{
 "cells": [
  {
   "cell_type": "markdown",
   "metadata": {},
   "source": [
    "# CLASSIFICATION TASK WITH LOGISTIC REGRESSION\n",
    "\n",
    "by ChunkDevs (Group 1)"
   ]
  },
  {
   "cell_type": "markdown",
   "metadata": {},
   "source": [
    "One of the models that have been chosen for our project baseline is **Logistic Regression** which, in natural language processing, is one of the baseline supervised machine learning algorithms for classification. \n",
    "\n",
    "In order to transform the tweets in a input data that is compatible with this model, we will try two different vectorization techniques: **Bag Of Words** (**BOW**) and **Term Frequency - Inverse Document Frequency** (**TF-IDF**). We will use `CountVectorizer` and `TfidfVectorizer` classes from `sklearn.feature_extraction.text `.\n",
    "\n",
    "We will try BOW and TF-IDF for both binary and multiclass classification task, therefore, we will use the class `ChunkDevs_GridTrainer` of our library to select the best hyperparameteres with the gridsearch, validate our model and finally predict on the raw unprocessed tweets of the test set. "
   ]
  },
  {
   "cell_type": "code",
   "execution_count": 1,
   "metadata": {
    "executionInfo": {
     "elapsed": 12,
     "status": "ok",
     "timestamp": 1719218740111,
     "user": {
      "displayName": "SALVATORE ERGOLI",
      "userId": "14259257916772642186"
     },
     "user_tz": -120
    },
    "id": "Ykk3dxn_2aNz"
   },
   "outputs": [],
   "source": [
    "import sys\n",
    "import os\n",
    "\n",
    "directory = os.getcwd().split(os.path.sep)\n",
    "root_index = directory.index(\"V_HLT\")\n",
    "root_path = os.path.sep.join(directory[:root_index+1])\n",
    "\n",
    "sys.path.append(root_path)"
   ]
  },
  {
   "cell_type": "code",
   "execution_count": 2,
   "metadata": {
    "executionInfo": {
     "elapsed": 367,
     "status": "ok",
     "timestamp": 1719220276476,
     "user": {
      "displayName": "SALVATORE ERGOLI",
      "userId": "14259257916772642186"
     },
     "user_tz": -120
    },
    "id": "jWeM5zOY2aN3"
   },
   "outputs": [
    {
     "name": "stderr",
     "output_type": "stream",
     "text": [
      "2024-06-24 18:17:30.123320: I tensorflow/core/util/port.cc:113] oneDNN custom operations are on. You may see slightly different numerical results due to floating-point round-off errors from different computation orders. To turn them off, set the environment variable `TF_ENABLE_ONEDNN_OPTS=0`.\n",
      "2024-06-24 18:17:30.342558: I tensorflow/core/platform/cpu_feature_guard.cc:210] This TensorFlow binary is optimized to use available CPU instructions in performance-critical operations.\n",
      "To enable the following instructions: AVX2 AVX512F AVX512_VNNI FMA, in other operations, rebuild TensorFlow with the appropriate compiler flags.\n",
      "2024-06-24 18:17:32.645243: W tensorflow/compiler/tf2tensorrt/utils/py_utils.cc:38] TF-TRT Warning: Could not find TensorRT\n"
     ]
    }
   ],
   "source": [
    "import numpy as np\n",
    "import pandas as pd\n",
    "\n",
    "import matplotlib.pyplot as plt\n",
    "import seaborn as sns\n",
    "\n",
    "from _chunkdevs.models import ChunkDevs_GridTrainer, ModelHandler\n",
    "from _chunkdevs.data_functions import *\n",
    "\n",
    "from sklearn.model_selection import train_test_split, KFold\n",
    "from sklearn.svm import SVC\n",
    "from sklearn.metrics import confusion_matrix\n",
    "from sklearn.linear_model import LogisticRegression\n",
    "\n",
    "from sklearn.feature_extraction.text import TfidfTransformer, CountVectorizer, TfidfVectorizer\n",
    "from sklearn.feature_selection import SelectKBest, mutual_info_classif"
   ]
  },
  {
   "cell_type": "markdown",
   "metadata": {},
   "source": [
    "# DATA LOADING"
   ]
  },
  {
   "cell_type": "code",
   "execution_count": 3,
   "metadata": {
    "executionInfo": {
     "elapsed": 2366,
     "status": "ok",
     "timestamp": 1719218756659,
     "user": {
      "displayName": "SALVATORE ERGOLI",
      "userId": "14259257916772642186"
     },
     "user_tz": -120
    },
    "id": "hCyaxFYf2aN4"
   },
   "outputs": [],
   "source": [
    "dev_path = os.path.join(root_path, \"data\", \"processed\", \"english_tweets_dev_set.csv\")\n",
    "dev = pd.read_csv(dev_path, encoding=\"utf-8\", skipinitialspace=True)\n",
    "\n",
    "test_path = os.path.join(root_path, \"data\", \"processed\", \"english_tweets_test_set.csv\")\n",
    "test = pd.read_csv(test_path, encoding=\"utf-8\", skipinitialspace=True)"
   ]
  },
  {
   "cell_type": "code",
   "execution_count": 4,
   "metadata": {},
   "outputs": [
    {
     "data": {
      "text/plain": [
       "((26268, 5), (2922, 4))"
      ]
     },
     "execution_count": 4,
     "metadata": {},
     "output_type": "execute_result"
    }
   ],
   "source": [
    "dev.shape, test.shape"
   ]
  },
  {
   "cell_type": "code",
   "execution_count": 5,
   "metadata": {
    "colab": {
     "base_uri": "https://localhost:8080/",
     "height": 423
    },
    "executionInfo": {
     "elapsed": 21,
     "status": "ok",
     "timestamp": 1719218756661,
     "user": {
      "displayName": "SALVATORE ERGOLI",
      "userId": "14259257916772642186"
     },
     "user_tz": -120
    },
    "id": "FmVZg7iS2aN5",
    "outputId": "39a24d23-f193-4f8d-ec81-f1ce663e42b7"
   },
   "outputs": [
    {
     "data": {
      "text/html": [
       "<div>\n",
       "<style scoped>\n",
       "    .dataframe tbody tr th:only-of-type {\n",
       "        vertical-align: middle;\n",
       "    }\n",
       "\n",
       "    .dataframe tbody tr th {\n",
       "        vertical-align: top;\n",
       "    }\n",
       "\n",
       "    .dataframe thead th {\n",
       "        text-align: right;\n",
       "    }\n",
       "</style>\n",
       "<table border=\"1\" class=\"dataframe\">\n",
       "  <thead>\n",
       "    <tr style=\"text-align: right;\">\n",
       "      <th></th>\n",
       "      <th>tweet_text</th>\n",
       "      <th>cyberbullying_type</th>\n",
       "      <th>cyberbullying_type_bin</th>\n",
       "      <th>cyberbullying_type_multi</th>\n",
       "      <th>tweet_text_cleaned</th>\n",
       "    </tr>\n",
       "  </thead>\n",
       "  <tbody>\n",
       "    <tr>\n",
       "      <th>0</th>\n",
       "      <td>I was bullied in fourth grade cause my twin li...</td>\n",
       "      <td>age</td>\n",
       "      <td>1</td>\n",
       "      <td>0</td>\n",
       "      <td>i was bullied in fourth grade cause my twin li...</td>\n",
       "    </tr>\n",
       "    <tr>\n",
       "      <th>1</th>\n",
       "      <td>I bullied myself for not looking like the othe...</td>\n",
       "      <td>age</td>\n",
       "      <td>1</td>\n",
       "      <td>0</td>\n",
       "      <td>i bullied myself for not looking like the othe...</td>\n",
       "    </tr>\n",
       "    <tr>\n",
       "      <th>2</th>\n",
       "      <td>Hijabi lives in a diverse community and joins ...</td>\n",
       "      <td>age</td>\n",
       "      <td>1</td>\n",
       "      <td>0</td>\n",
       "      <td>hijabi lives in a diverse community and joins ...</td>\n",
       "    </tr>\n",
       "    <tr>\n",
       "      <th>3</th>\n",
       "      <td>Your amazing me and my son who’s 11 and a aspi...</td>\n",
       "      <td>age</td>\n",
       "      <td>1</td>\n",
       "      <td>0</td>\n",
       "      <td>your amazing me and my son whos 11 and a aspir...</td>\n",
       "    </tr>\n",
       "    <tr>\n",
       "      <th>4</th>\n",
       "      <td>I hope all the bitches who bullied girls in hi...</td>\n",
       "      <td>age</td>\n",
       "      <td>1</td>\n",
       "      <td>0</td>\n",
       "      <td>i hope all the bitches who bullied girls in hi...</td>\n",
       "    </tr>\n",
       "  </tbody>\n",
       "</table>\n",
       "</div>"
      ],
      "text/plain": [
       "                                          tweet_text cyberbullying_type  \\\n",
       "0  I was bullied in fourth grade cause my twin li...                age   \n",
       "1  I bullied myself for not looking like the othe...                age   \n",
       "2  Hijabi lives in a diverse community and joins ...                age   \n",
       "3  Your amazing me and my son who’s 11 and a aspi...                age   \n",
       "4  I hope all the bitches who bullied girls in hi...                age   \n",
       "\n",
       "   cyberbullying_type_bin  cyberbullying_type_multi  \\\n",
       "0                       1                         0   \n",
       "1                       1                         0   \n",
       "2                       1                         0   \n",
       "3                       1                         0   \n",
       "4                       1                         0   \n",
       "\n",
       "                                  tweet_text_cleaned  \n",
       "0  i was bullied in fourth grade cause my twin li...  \n",
       "1  i bullied myself for not looking like the othe...  \n",
       "2  hijabi lives in a diverse community and joins ...  \n",
       "3  your amazing me and my son whos 11 and a aspir...  \n",
       "4  i hope all the bitches who bullied girls in hi...  "
      ]
     },
     "execution_count": 5,
     "metadata": {},
     "output_type": "execute_result"
    }
   ],
   "source": [
    "dev.head()"
   ]
  },
  {
   "cell_type": "code",
   "execution_count": 6,
   "metadata": {},
   "outputs": [
    {
     "data": {
      "text/html": [
       "<div>\n",
       "<style scoped>\n",
       "    .dataframe tbody tr th:only-of-type {\n",
       "        vertical-align: middle;\n",
       "    }\n",
       "\n",
       "    .dataframe tbody tr th {\n",
       "        vertical-align: top;\n",
       "    }\n",
       "\n",
       "    .dataframe thead th {\n",
       "        text-align: right;\n",
       "    }\n",
       "</style>\n",
       "<table border=\"1\" class=\"dataframe\">\n",
       "  <thead>\n",
       "    <tr style=\"text-align: right;\">\n",
       "      <th></th>\n",
       "      <th>tweet_text</th>\n",
       "      <th>cyberbullying_type</th>\n",
       "      <th>cyberbullying_type_bin</th>\n",
       "      <th>cyberbullying_type_multi</th>\n",
       "    </tr>\n",
       "  </thead>\n",
       "  <tbody>\n",
       "    <tr>\n",
       "      <th>0</th>\n",
       "      <td>Concept of 'Dark Power': Like soft power, but ...</td>\n",
       "      <td>age</td>\n",
       "      <td>1</td>\n",
       "      <td>0</td>\n",
       "    </tr>\n",
       "    <tr>\n",
       "      <th>1</th>\n",
       "      <td>I want to cyber bully a school board member</td>\n",
       "      <td>age</td>\n",
       "      <td>1</td>\n",
       "      <td>0</td>\n",
       "    </tr>\n",
       "    <tr>\n",
       "      <th>2</th>\n",
       "      <td>my school was super chill about it.... unlike ...</td>\n",
       "      <td>age</td>\n",
       "      <td>1</td>\n",
       "      <td>0</td>\n",
       "    </tr>\n",
       "    <tr>\n",
       "      <th>3</th>\n",
       "      <td>If that person is a school yard bully won't th...</td>\n",
       "      <td>age</td>\n",
       "      <td>1</td>\n",
       "      <td>0</td>\n",
       "    </tr>\n",
       "    <tr>\n",
       "      <th>4</th>\n",
       "      <td>I can't stand his voice or his look. He's a sm...</td>\n",
       "      <td>age</td>\n",
       "      <td>1</td>\n",
       "      <td>0</td>\n",
       "    </tr>\n",
       "  </tbody>\n",
       "</table>\n",
       "</div>"
      ],
      "text/plain": [
       "                                          tweet_text cyberbullying_type  \\\n",
       "0  Concept of 'Dark Power': Like soft power, but ...                age   \n",
       "1        I want to cyber bully a school board member                age   \n",
       "2  my school was super chill about it.... unlike ...                age   \n",
       "3  If that person is a school yard bully won't th...                age   \n",
       "4  I can't stand his voice or his look. He's a sm...                age   \n",
       "\n",
       "   cyberbullying_type_bin  cyberbullying_type_multi  \n",
       "0                       1                         0  \n",
       "1                       1                         0  \n",
       "2                       1                         0  \n",
       "3                       1                         0  \n",
       "4                       1                         0  "
      ]
     },
     "execution_count": 6,
     "metadata": {},
     "output_type": "execute_result"
    }
   ],
   "source": [
    "test.head()"
   ]
  },
  {
   "cell_type": "code",
   "execution_count": 7,
   "metadata": {
    "executionInfo": {
     "elapsed": 14,
     "status": "ok",
     "timestamp": 1719218756663,
     "user": {
      "displayName": "SALVATORE ERGOLI",
      "userId": "14259257916772642186"
     },
     "user_tz": -120
    },
    "id": "J8L1GMAk2aN6"
   },
   "outputs": [],
   "source": [
    "path_models = os.path.join(root_path, 'outputs', 'models')\n",
    "\n",
    "RANDOM_STATE = 42\n",
    "\n",
    "k_fold = KFold(n_splits=5, shuffle=True, random_state=RANDOM_STATE)"
   ]
  },
  {
   "cell_type": "markdown",
   "metadata": {
    "id": "o_-4WlTe37YR"
   },
   "source": [
    "<div style=\"font-size: 18px;\">\n",
    "    \n",
    "Using the same `RANDOM_STATE` value as the other notebook. For the crossvalidation approach, we decided to split the dev-set into 5 folds and shuffling the examples for each iteration during the gridsearch of the models.    \n",
    "\n",
    "<br>\n",
    "</div>"
   ]
  },
  {
   "cell_type": "markdown",
   "metadata": {
    "id": "C0assc4f7RQ0"
   },
   "source": [
    "# FEATURES EXTRACTION WITH COUNTVECTORIZER"
   ]
  },
  {
   "cell_type": "markdown",
   "metadata": {},
   "source": [
    "## BINARY CLASSIFICATION TASK"
   ]
  },
  {
   "cell_type": "markdown",
   "metadata": {
    "id": "R4h22baM6OVB"
   },
   "source": [
    "Additionally, a `CountVectorizer` was set up to transform text data into a matrix of token counts, where each cell represents the count of a a specific word in a particular tweet (Bag of Words).\n",
    "\n",
    "The hyperparameters are specified in `param_grid`, which consists of a list of dictionaries with two possible combinations of hyperparameters."
   ]
  },
  {
   "cell_type": "code",
   "execution_count": 8,
   "metadata": {
    "executionInfo": {
     "elapsed": 1042,
     "status": "ok",
     "timestamp": 1719218757691,
     "user": {
      "displayName": "SALVATORE ERGOLI",
      "userId": "14259257916772642186"
     },
     "user_tz": -120
    },
    "id": "TZ1jMHu02aN7"
   },
   "outputs": [],
   "source": [
    "model = LogisticRegression(random_state=RANDOM_STATE)\n",
    "vectorizer = CountVectorizer()\n",
    "\n",
    "\n",
    "X_dev_bin = dev['tweet_text_cleaned'].values\n",
    "y_dev_bin = dev['cyberbullying_type_bin'].values\n",
    "X_test_bin = test['tweet_text'].values\n",
    "y_test_bin = test['cyberbullying_type_bin'].values\n",
    "\n",
    "X_train_bin = vectorizer.fit_transform(X_dev_bin)\n",
    "X_test_bin = vectorizer.transform(X_test_bin)\n",
    "\n",
    "\n",
    "param_grid = [\n",
    "    {'solver': [\"liblinear\"], 'class_weight': [None, 'balanced'], 'C': [0.001, 0.01, 0.1, 1, 10, 100], 'penalty': ['l1', 'l2'], 'max_iter' : [100000]},\n",
    "    {'solver': [\"newton-cg\", \"lbfgs\", \"sag\"], 'class_weight': [None, 'balanced'], 'C': [0.001, 0.01, 0.1, 1, 10, 100], 'penalty': ['l2'], 'max_iter' : [100000]}\n",
    "]"
   ]
  },
  {
   "cell_type": "markdown",
   "metadata": {},
   "source": [
    "For the model implementation, we used our class `ChunkDevs_GridTrainer` for training different models using Grid Search with cross-validation.\n",
    "\n",
    "\n",
    "This are the **attributes** needed for our class:\n",
    "\n",
    "- `model` : The model to be optimized. (Compatible with NB, LogReg, SVM, and XGB)\n",
    "- `param_grid` : The model parameter grid to search over.\n",
    "- `scoring` : The scoring metric to use for evaluation, in all the notebook we used **f1 score for binary** tasks and **accuracy for multiclass** \n",
    "- `cv` : The cross-validation strategy (5 folds with shuffling have been used for every model (except for LSTM and transformers )in order to maintain the same procedure)\n",
    "- `n_jobs` : The number of jobs to run in parallel. (always -1 for enabling parallel use of the processors)\n",
    "- `grid_search` : The GridSearchCV object after fitting.\n",
    "\n",
    "This are the **methods** available with our class:\n",
    "\n",
    "- `train`: Train the model using Grid Search with the provided training data.\n",
    "- `predict` Make blind predictions using the trained model.\n",
    "- `get_best_params`Get the best parameters found by Grid Search.\n",
    "- `get_best_score` Get the best score achieved by Grid Search.\n",
    "- `get_classification_report` Get the classification report for the test data.\n",
    "- `get_confusion_matrix` Get the confusion matrix for the test data.\n",
    "- `save_results` Save the Grid Search results and classification report to a file."
   ]
  },
  {
   "cell_type": "markdown",
   "metadata": {},
   "source": [
    "### GRIDSEARCH AND TRAINING"
   ]
  },
  {
   "cell_type": "markdown",
   "metadata": {
    "id": "kvcSfWTi8ceT"
   },
   "source": [
    "Gridsearch with 5-fold cross-validation and shuffling enabled. After finding the best hyperparameters, we train the model using all the dev-set\n",
    "\n",
    "For the binary task, the `ChunkDevs_GridTrainer` is initialized with \"f1_weighted\" as scoring because the dataset has an imbalanced class distribution, with the \"not cyberbullying\" class being less numerous than the \"cyberbullying\" class. In such cases, accuracy  can be misleading since a model could achieve high accuracy by simply predicting the majority class."
   ]
  },
  {
   "cell_type": "code",
   "execution_count": 9,
   "metadata": {
    "colab": {
     "base_uri": "https://localhost:8080/"
    },
    "executionInfo": {
     "elapsed": 178488,
     "status": "ok",
     "timestamp": 1719219003739,
     "user": {
      "displayName": "SALVATORE ERGOLI",
      "userId": "14259257916772642186"
     },
     "user_tz": -120
    },
    "id": "VvYsPa502aN7",
    "outputId": "af6fa68c-2028-4829-fbb8-8f4e05145cbe"
   },
   "outputs": [
    {
     "name": "stdout",
     "output_type": "stream",
     "text": [
      "Best Parameters: {'C': 1, 'class_weight': None, 'max_iter': 100000, 'penalty': 'l1', 'solver': 'liblinear'} \n",
      "\n"
     ]
    }
   ],
   "source": [
    "trainer = ChunkDevs_GridTrainer(model=model, param_grid=param_grid, scoring=\"f1_weighted\", cv=k_fold, n_jobs=-1)\n",
    "best_model_logreg_countvect_bin = trainer.train(X_train_bin, y_dev_bin)\n",
    "best_params = trainer.get_best_params()\n",
    "print(f\"Best Parameters: {best_params} \\n\")"
   ]
  },
  {
   "cell_type": "markdown",
   "metadata": {},
   "source": [
    "### TESTING PHASE\n",
    "\n",
    "Testing of the assessed model to the test-set and showing our results"
   ]
  },
  {
   "cell_type": "code",
   "execution_count": 10,
   "metadata": {},
   "outputs": [
    {
     "name": "stdout",
     "output_type": "stream",
     "text": [
      "Classification report for LogisticRegression(random_state=42)\n",
      "              precision    recall  f1-score   support\n",
      "\n",
      "           0       0.59      0.54      0.56       487\n",
      "           1       0.91      0.92      0.92      2435\n",
      "\n",
      "    accuracy                           0.86      2922\n",
      "   macro avg       0.75      0.73      0.74      2922\n",
      "weighted avg       0.86      0.86      0.86      2922\n",
      "\n"
     ]
    }
   ],
   "source": [
    "y_pred_bin = trainer.predict(X_test_bin)\n",
    "print(f\"Classification report for {str(trainer.model)}\")\n",
    "report = trainer.get_classification_report(X_test_bin, y_test_bin)\n",
    "print(report)"
   ]
  },
  {
   "cell_type": "code",
   "execution_count": 11,
   "metadata": {
    "colab": {
     "base_uri": "https://localhost:8080/",
     "height": 607
    },
    "executionInfo": {
     "elapsed": 1016,
     "status": "ok",
     "timestamp": 1719219004725,
     "user": {
      "displayName": "SALVATORE ERGOLI",
      "userId": "14259257916772642186"
     },
     "user_tz": -120
    },
    "id": "HIV7Hu_u2aN8",
    "outputId": "a62a0230-f625-4a5b-d1c1-093458d8f71c"
   },
   "outputs": [
    {
     "data": {
      "image/png": "[encoded data removed]",
      "text/plain": [
       "<Figure size 1200x600 with 2 Axes>"
      ]
     },
     "metadata": {},
     "output_type": "display_data"
    }
   ],
   "source": [
    "matrix = confusion_matrix(y_test_bin, y_pred_bin)\n",
    "\n",
    "plt.figure(figsize=(12, 6))\n",
    "sns.heatmap(matrix, annot=True, fmt='d', cmap='Blues')\n",
    "plt.xlabel('Predicted')\n",
    "plt.ylabel('True')\n",
    "plt.title('Confusion Matrix w/ LogReg CountVectorizer')\n",
    "plt.tight_layout()\n",
    "plt.savefig(os.path.join(root_path, 'outputs', 'img', 'baseline', '4_cm_logreg_countvect_bin.png'))\n",
    "plt.show()"
   ]
  },
  {
   "cell_type": "markdown",
   "metadata": {},
   "source": [
    "<div style=\"font-size: 20px;\">    \n",
    "\n",
    "Considering the confusion matrix, the logistic regression is able to **correctly classify the cyberbullying class, but not the not-cyberbullying one**. It necessary to consider that the classes are very umbalanced, so we can not rely on the accuracy metric to evaluate the model. For the class 0, we have low values of precision, recall and f1 score.  \n",
    "\n",
    "<br></div>"
   ]
  },
  {
   "cell_type": "markdown",
   "metadata": {},
   "source": [
    "### RESULTS SAVING\n",
    "Saving the results to the appropriate folder"
   ]
  },
  {
   "cell_type": "code",
   "execution_count": 12,
   "metadata": {
    "colab": {
     "base_uri": "https://localhost:8080/"
    },
    "executionInfo": {
     "elapsed": 78,
     "status": "ok",
     "timestamp": 1719219004765,
     "user": {
      "displayName": "SALVATORE ERGOLI",
      "userId": "14259257916772642186"
     },
     "user_tz": -120
    },
    "id": "8ee1J04K2aN9",
    "outputId": "ed596d30-6fa7-4e9e-cddd-ab90fdd100a5"
   },
   "outputs": [
    {
     "name": "stdout",
     "output_type": "stream",
     "text": [
      "Report saved to /home/m.sanna21/V_HLT/outputs/reports/2_logreg_countvect.txt\n"
     ]
    }
   ],
   "source": [
    "save_path = os.path.join(root_path, 'outputs', 'reports', '2_logreg_countvect.txt')\n",
    "trainer.save_results(X_test_bin, y_test_bin, save_path)"
   ]
  },
  {
   "cell_type": "markdown",
   "metadata": {},
   "source": [
    "## MULTICLASS CLASSIFICATION TASK"
   ]
  },
  {
   "cell_type": "code",
   "execution_count": 13,
   "metadata": {
    "executionInfo": {
     "elapsed": 2156,
     "status": "ok",
     "timestamp": 1719219567569,
     "user": {
      "displayName": "SALVATORE ERGOLI",
      "userId": "14259257916772642186"
     },
     "user_tz": -120
    },
    "id": "2XK55_QH2aN9"
   },
   "outputs": [],
   "source": [
    "X_dev_multi = dev['tweet_text_cleaned'].values\n",
    "y_dev_multi = dev['cyberbullying_type_multi'].values\n",
    "X_test_multi = test['tweet_text'].values\n",
    "y_test_multi = test['cyberbullying_type_multi'].values\n",
    "\n",
    "X_train_multi = vectorizer.fit_transform(X_dev_multi)\n",
    "X_test_multi = vectorizer.transform(X_test_multi)\n",
    "\n",
    "\n",
    "param_grid = [\n",
    "    {'solver': [\"newton-cg\", \"lbfgs\", \"sag\"], 'class_weight': [None, 'balanced'], 'C': [0.001, 0.01, 0.1, 1, 10, 100], 'penalty': ['l2'], 'max_iter' : [100000]}\n",
    "]"
   ]
  },
  {
   "cell_type": "markdown",
   "metadata": {
    "id": "HeWHEhNLAW4j"
   },
   "source": [
    "Another hyperparameter tuning and training for the logistic regression model was conducted for multiclass classification.\n",
    "\n",
    "In this case, we have chosen \"accuracy\" as the evaluation metric because the dataset is balanced for the multiclass classification."
   ]
  },
  {
   "cell_type": "markdown",
   "metadata": {},
   "source": [
    "### GRIDSEARCH AND TRAINING\n",
    "\n",
    "Gridsearch with 5-fold cross-validation and shuffling enabled. After finding the best hyperparameters, we train the model using all the dev-set"
   ]
  },
  {
   "cell_type": "code",
   "execution_count": 14,
   "metadata": {
    "colab": {
     "base_uri": "https://localhost:8080/"
    },
    "executionInfo": {
     "elapsed": 617705,
     "status": "ok",
     "timestamp": 1719220195163,
     "user": {
      "displayName": "SALVATORE ERGOLI",
      "userId": "14259257916772642186"
     },
     "user_tz": -120
    },
    "id": "kls5vep82aN-",
    "outputId": "ecb2c31c-aa3f-475b-c102-8ac916bd0060"
   },
   "outputs": [
    {
     "name": "stdout",
     "output_type": "stream",
     "text": [
      "Best Parameters: {'C': 0.1, 'class_weight': None, 'max_iter': 100000, 'penalty': 'l2', 'solver': 'newton-cg'} \n",
      "\n"
     ]
    }
   ],
   "source": [
    "trainer = ChunkDevs_GridTrainer(model=model, param_grid=param_grid, scoring=\"accuracy\", cv=k_fold, n_jobs=-1)\n",
    "best_model_logreg_countvect_multi = trainer.train(X_train_multi, y_dev_multi)\n",
    "best_params = trainer.get_best_params()\n",
    "print(f\"Best Parameters: {best_params} \\n\")"
   ]
  },
  {
   "cell_type": "markdown",
   "metadata": {},
   "source": [
    "### TESTING PHASE\n",
    "\n",
    "Testing of the assessed model to the test-set and showing our results"
   ]
  },
  {
   "cell_type": "code",
   "execution_count": 15,
   "metadata": {},
   "outputs": [
    {
     "name": "stdout",
     "output_type": "stream",
     "text": [
      "Classification report for LogisticRegression(random_state=42)\n",
      "              precision    recall  f1-score   support\n",
      "\n",
      "           0       0.98      0.97      0.97       487\n",
      "           1       0.98      0.97      0.98       487\n",
      "           2       0.91      0.79      0.84       487\n",
      "           3       0.57      0.63      0.60       487\n",
      "           4       0.62      0.68      0.65       487\n",
      "           5       0.97      0.92      0.94       487\n",
      "\n",
      "    accuracy                           0.83      2922\n",
      "   macro avg       0.84      0.83      0.83      2922\n",
      "weighted avg       0.84      0.83      0.83      2922\n",
      "\n"
     ]
    }
   ],
   "source": [
    "y_pred_multi = trainer.predict(X_test_multi)\n",
    "print(f\"Classification report for {str(trainer.model)}\")\n",
    "report = trainer.get_classification_report(X_test_multi, y_test_multi)\n",
    "print(report)"
   ]
  },
  {
   "cell_type": "code",
   "execution_count": 16,
   "metadata": {
    "colab": {
     "base_uri": "https://localhost:8080/",
     "height": 607
    },
    "executionInfo": {
     "elapsed": 963,
     "status": "ok",
     "timestamp": 1719220246027,
     "user": {
      "displayName": "SALVATORE ERGOLI",
      "userId": "14259257916772642186"
     },
     "user_tz": -120
    },
    "id": "oPJJ3HAd2aN-",
    "outputId": "d9a6f1b9-2e4c-492d-d057-c6a5ea91849c"
   },
   "outputs": [
    {
     "data": {
      "image/png": "[encoded data removed]",
      "text/plain": [
       "<Figure size 1200x600 with 2 Axes>"
      ]
     },
     "metadata": {},
     "output_type": "display_data"
    }
   ],
   "source": [
    "matrix = confusion_matrix(y_test_multi, y_pred_multi)\n",
    "\n",
    "plt.figure(figsize=(12, 6))\n",
    "sns.heatmap(matrix, annot=True, fmt='d', cmap='Blues')\n",
    "plt.xlabel('Predicted')\n",
    "plt.ylabel('True')\n",
    "plt.title('Confusion Matrix w/ LogReg CountVectorizer')\n",
    "plt.tight_layout()\n",
    "plt.savefig(os.path.join(root_path, 'outputs', 'img', 'baseline', '5_cm_logreg_countvect_multi.png'))\n",
    "plt.show()"
   ]
  },
  {
   "cell_type": "markdown",
   "metadata": {},
   "source": [
    "<div style=\"font-size: 20px;\">  \n",
    "\n",
    "Considering the results, this baseline has an **high value of accuracy**. Therefore, we can affirm that for the multiclass task we start with an already **strong baseline**\n",
    "\n",
    "<br></div>"
   ]
  },
  {
   "cell_type": "markdown",
   "metadata": {},
   "source": [
    "### RESULTS SAVING\n",
    "Saving the results to the appropriate folder"
   ]
  },
  {
   "cell_type": "code",
   "execution_count": 17,
   "metadata": {
    "colab": {
     "base_uri": "https://localhost:8080/"
    },
    "executionInfo": {
     "elapsed": 394,
     "status": "ok",
     "timestamp": 1719220250153,
     "user": {
      "displayName": "SALVATORE ERGOLI",
      "userId": "14259257916772642186"
     },
     "user_tz": -120
    },
    "id": "epsz5W3J2aN_",
    "outputId": "f7eb1983-6fd9-4fa5-c35c-d1184dcddcf7"
   },
   "outputs": [
    {
     "name": "stdout",
     "output_type": "stream",
     "text": [
      "Report saved to /home/m.sanna21/V_HLT/outputs/reports/2_logreg_countvect.txt\n"
     ]
    }
   ],
   "source": [
    "save_path = os.path.join(root_path, 'outputs', 'reports', '2_logreg_countvect.txt')\n",
    "trainer.save_results(X_test_multi, y_test_multi, save_path)"
   ]
  },
  {
   "cell_type": "markdown",
   "metadata": {
    "id": "JceX-NPA2aOA"
   },
   "source": [
    "# FEATURES EXTRACTION WITH TF-IDF"
   ]
  },
  {
   "cell_type": "markdown",
   "metadata": {
    "id": "wreODqV4UbB3"
   },
   "source": [
    "The second technique used as feature for our baseline is `TF-IDF`, that converts text data into numerical vectors by measuring the importance of a word in a document relative to a collection of documents, considering both its frequency in the document and its rarity across all documents."
   ]
  },
  {
   "cell_type": "markdown",
   "metadata": {},
   "source": [
    "## BINARY CLASSIFICATION TASK"
   ]
  },
  {
   "cell_type": "code",
   "execution_count": 18,
   "metadata": {
    "executionInfo": {
     "elapsed": 2707,
     "status": "ok",
     "timestamp": 1719220297047,
     "user": {
      "displayName": "SALVATORE ERGOLI",
      "userId": "14259257916772642186"
     },
     "user_tz": -120
    },
    "id": "_atZ899J2aOC"
   },
   "outputs": [],
   "source": [
    "vectorizer = TfidfVectorizer()\n",
    "\n",
    "\n",
    "X_dev_bin = dev['tweet_text_cleaned'].values\n",
    "y_dev_bin = dev['cyberbullying_type_bin'].values\n",
    "X_test_bin = test['tweet_text'].values\n",
    "y_test_bin = test['cyberbullying_type_bin'].values\n",
    "\n",
    "X_train_bin = vectorizer.fit_transform(X_dev_bin)\n",
    "X_test_bin = vectorizer.transform(X_test_bin)\n",
    "\n",
    "\n",
    "param_grid = [\n",
    "    {'solver': [\"liblinear\"], 'class_weight': [None, 'balanced'], 'C': [0.001, 0.01, 0.1, 1, 10, 100], 'penalty': ['l1', 'l2'], 'max_iter' : [100000]},\n",
    "    {'solver': [\"newton-cg\", \"lbfgs\", \"sag\"], 'class_weight': [None, 'balanced'], 'C': [0.001, 0.01, 0.1, 1, 10, 100], 'penalty': ['l2'], 'max_iter' : [100000]}\n",
    "]"
   ]
  },
  {
   "cell_type": "markdown",
   "metadata": {},
   "source": [
    "### GRIDSEARCH AND TRAINING"
   ]
  },
  {
   "cell_type": "code",
   "execution_count": 19,
   "metadata": {
    "colab": {
     "base_uri": "https://localhost:8080/"
    },
    "executionInfo": {
     "elapsed": 166740,
     "status": "ok",
     "timestamp": 1719220474655,
     "user": {
      "displayName": "SALVATORE ERGOLI",
      "userId": "14259257916772642186"
     },
     "user_tz": -120
    },
    "id": "6-EXcMXP2aOD",
    "outputId": "c16819b8-6191-49c7-bf07-280d91dee19c"
   },
   "outputs": [
    {
     "name": "stderr",
     "output_type": "stream",
     "text": [
      "/home/m.sanna21/.venv/lib/python3.10/site-packages/joblib/externals/loky/process_executor.py:752: UserWarning: A worker stopped while some jobs were given to the executor. This can be caused by a too short worker timeout or by a memory leak.\n",
      "  warnings.warn(\n"
     ]
    },
    {
     "name": "stdout",
     "output_type": "stream",
     "text": [
      "Best Parameters: {'C': 10, 'class_weight': None, 'max_iter': 100000, 'penalty': 'l2', 'solver': 'lbfgs'} \n",
      "\n"
     ]
    }
   ],
   "source": [
    "trainer = ChunkDevs_GridTrainer(model=model, param_grid=param_grid, scoring=\"f1_weighted\", cv=k_fold, n_jobs=-1)\n",
    "best_model_logreg_tfidf_bin = trainer.train(X_train_bin, y_dev_bin)\n",
    "best_params = trainer.get_best_params()\n",
    "print(f\"Best Parameters: {best_params} \\n\")"
   ]
  },
  {
   "cell_type": "markdown",
   "metadata": {},
   "source": [
    "### TESTING PHASE"
   ]
  },
  {
   "cell_type": "code",
   "execution_count": 20,
   "metadata": {},
   "outputs": [
    {
     "name": "stdout",
     "output_type": "stream",
     "text": [
      "Classification report for LogisticRegression(random_state=42)\n",
      "              precision    recall  f1-score   support\n",
      "\n",
      "           0       0.63      0.49      0.55       487\n",
      "           1       0.90      0.94      0.92      2435\n",
      "\n",
      "    accuracy                           0.87      2922\n",
      "   macro avg       0.76      0.72      0.74      2922\n",
      "weighted avg       0.86      0.87      0.86      2922\n",
      "\n"
     ]
    }
   ],
   "source": [
    "y_pred_bin = trainer.predict(X_test_bin)\n",
    "print(f\"Classification report for {str(trainer.model)}\")\n",
    "report = trainer.get_classification_report(X_test_bin, y_test_bin)\n",
    "print(report)"
   ]
  },
  {
   "cell_type": "code",
   "execution_count": 21,
   "metadata": {
    "colab": {
     "base_uri": "https://localhost:8080/",
     "height": 607
    },
    "executionInfo": {
     "elapsed": 1257,
     "status": "ok",
     "timestamp": 1719220525504,
     "user": {
      "displayName": "SALVATORE ERGOLI",
      "userId": "14259257916772642186"
     },
     "user_tz": -120
    },
    "id": "x2bQeyCU2aOE",
    "outputId": "05ef5146-7bd9-4628-ecd4-ec96e5dbe92a"
   },
   "outputs": [
    {
     "data": {
      "image/png": "[encoded data removed]",
      "text/plain": [
       "<Figure size 1200x600 with 2 Axes>"
      ]
     },
     "metadata": {},
     "output_type": "display_data"
    }
   ],
   "source": [
    "matrix = confusion_matrix(y_test_bin, y_pred_bin)\n",
    "\n",
    "plt.figure(figsize=(12, 6))\n",
    "sns.heatmap(matrix, annot=True, fmt='d', cmap='Blues')\n",
    "plt.xlabel('Predicted')\n",
    "plt.ylabel('True')\n",
    "plt.title('Confusion Matrix w/ LogReg TF-IDF')\n",
    "plt.tight_layout()\n",
    "plt.savefig(os.path.join(root_path, 'outputs', 'img', 'baseline', '6_cm_logreg_tfidf_bin.png'))\n",
    "plt.show()"
   ]
  },
  {
   "cell_type": "markdown",
   "metadata": {},
   "source": [
    "<div style=\"font-size: 20px;\"> \n",
    "\n",
    "Looking at the confusion matrix, this model has an **higher precision, recall and f1 score** values for the class 0 than the Logreg with the CountVectorizer feature extraction\n",
    "\n",
    "<br></div>"
   ]
  },
  {
   "cell_type": "markdown",
   "metadata": {},
   "source": [
    "### RESULTS SAVING\n",
    "Saving the results to the appropriate folder"
   ]
  },
  {
   "cell_type": "code",
   "execution_count": 22,
   "metadata": {
    "colab": {
     "base_uri": "https://localhost:8080/"
    },
    "executionInfo": {
     "elapsed": 340,
     "status": "ok",
     "timestamp": 1719220528801,
     "user": {
      "displayName": "SALVATORE ERGOLI",
      "userId": "14259257916772642186"
     },
     "user_tz": -120
    },
    "id": "CNvYh7na2aOF",
    "outputId": "37b13514-6b87-4e16-d26f-1ec4b6c804ca"
   },
   "outputs": [
    {
     "name": "stdout",
     "output_type": "stream",
     "text": [
      "Report saved to /home/m.sanna21/V_HLT/outputs/reports/3_logreg_tfidf.txt\n"
     ]
    }
   ],
   "source": [
    "save_path = os.path.join(root_path, 'outputs', 'reports', '3_logreg_tfidf.txt')\n",
    "trainer.save_results(X_test_bin, y_test_bin, save_path)"
   ]
  },
  {
   "cell_type": "markdown",
   "metadata": {},
   "source": [
    "## MULTICLASS CLASSIFICATION TASK"
   ]
  },
  {
   "cell_type": "code",
   "execution_count": 23,
   "metadata": {
    "executionInfo": {
     "elapsed": 3367,
     "status": "ok",
     "timestamp": 1719220540968,
     "user": {
      "displayName": "SALVATORE ERGOLI",
      "userId": "14259257916772642186"
     },
     "user_tz": -120
    },
    "id": "NbsPa_Yc2aOF"
   },
   "outputs": [],
   "source": [
    "X_dev_multi = dev['tweet_text_cleaned'].values\n",
    "y_dev_multi = dev['cyberbullying_type_multi'].values\n",
    "X_test_multi = test['tweet_text'].values\n",
    "y_test_multi = test['cyberbullying_type_multi'].values\n",
    "\n",
    "X_train_multi = vectorizer.fit_transform(X_dev_multi)\n",
    "X_test_multi = vectorizer.transform(X_test_multi)\n",
    "\n",
    "\n",
    "param_grid = [\n",
    "    {'solver': [\"newton-cg\", \"lbfgs\", \"sag\"], 'class_weight': [None, 'balanced'], 'C': [0.001, 0.01, 0.1, 1, 10, 100], 'penalty': ['l2'], 'max_iter' : [100000]}\n",
    "]"
   ]
  },
  {
   "cell_type": "markdown",
   "metadata": {},
   "source": [
    "### GRIDSEARCH AND TRAINING"
   ]
  },
  {
   "cell_type": "code",
   "execution_count": 24,
   "metadata": {
    "colab": {
     "base_uri": "https://localhost:8080/"
    },
    "executionInfo": {
     "elapsed": 335320,
     "status": "ok",
     "timestamp": 1719220881029,
     "user": {
      "displayName": "SALVATORE ERGOLI",
      "userId": "14259257916772642186"
     },
     "user_tz": -120
    },
    "id": "jSecwKJ-2aOG",
    "outputId": "69f24513-9626-4979-f0bc-a0e1d16e11c7"
   },
   "outputs": [
    {
     "name": "stdout",
     "output_type": "stream",
     "text": [
      "Best Parameters: {'C': 1, 'class_weight': 'balanced', 'max_iter': 100000, 'penalty': 'l2', 'solver': 'lbfgs'} \n",
      "\n"
     ]
    }
   ],
   "source": [
    "trainer = ChunkDevs_GridTrainer(model=model, param_grid=param_grid, scoring=\"accuracy\", cv=k_fold, n_jobs=-1)\n",
    "best_model_logreg_tfidf_multi = trainer.train(X_train_multi, y_dev_multi)\n",
    "best_params = trainer.get_best_params()\n",
    "print(f\"Best Parameters: {best_params} \\n\")"
   ]
  },
  {
   "cell_type": "markdown",
   "metadata": {},
   "source": [
    "### TESTING PHASE"
   ]
  },
  {
   "cell_type": "code",
   "execution_count": 25,
   "metadata": {},
   "outputs": [
    {
     "name": "stdout",
     "output_type": "stream",
     "text": [
      "Classification report for LogisticRegression(random_state=42)\n",
      "              precision    recall  f1-score   support\n",
      "\n",
      "           0       0.96      0.96      0.96       487\n",
      "           1       0.97      0.98      0.97       487\n",
      "           2       0.90      0.81      0.85       487\n",
      "           3       0.57      0.59      0.58       487\n",
      "           4       0.62      0.65      0.64       487\n",
      "           5       0.95      0.94      0.95       487\n",
      "\n",
      "    accuracy                           0.82      2922\n",
      "   macro avg       0.83      0.82      0.82      2922\n",
      "weighted avg       0.83      0.82      0.82      2922\n",
      "\n"
     ]
    }
   ],
   "source": [
    "y_pred_multi = trainer.predict(X_test_multi)\n",
    "print(f\"Classification report for {str(trainer.model)}\")\n",
    "report = trainer.get_classification_report(X_test_multi, y_test_multi)\n",
    "print(report)"
   ]
  },
  {
   "cell_type": "code",
   "execution_count": 26,
   "metadata": {
    "colab": {
     "base_uri": "https://localhost:8080/",
     "height": 607
    },
    "executionInfo": {
     "elapsed": 911,
     "status": "ok",
     "timestamp": 1719221083995,
     "user": {
      "displayName": "SALVATORE ERGOLI",
      "userId": "14259257916772642186"
     },
     "user_tz": -120
    },
    "id": "fu-Z6n022aOG",
    "outputId": "1bcea783-aa12-4b7c-8232-ba4ceff0dfe3"
   },
   "outputs": [
    {
     "data": {
      "image/png": "[encoded data removed]",
      "text/plain": [
       "<Figure size 1200x600 with 2 Axes>"
      ]
     },
     "metadata": {},
     "output_type": "display_data"
    }
   ],
   "source": [
    "matrix = confusion_matrix(y_test_multi, y_pred_multi)\n",
    "\n",
    "plt.figure(figsize=(12, 6))\n",
    "sns.heatmap(matrix, annot=True, fmt='d', cmap='Blues')\n",
    "plt.xlabel('Predicted')\n",
    "plt.ylabel('True')\n",
    "plt.title('Confusion Matrix w/ LogReg TF-IDF')\n",
    "plt.tight_layout()\n",
    "plt.savefig(os.path.join(root_path, 'outputs', 'img', 'baseline', '7_cm_logreg_tfidf_multi.png'))\n",
    "plt.show()"
   ]
  },
  {
   "cell_type": "markdown",
   "metadata": {},
   "source": [
    "<div style=\"font-size: 20px;\">   \n",
    "\n",
    "However, for the multiclass task, this model has a lower accuracy than the other one\n",
    "\n",
    "<br></div>\n"
   ]
  },
  {
   "cell_type": "markdown",
   "metadata": {},
   "source": [
    "### RESULTS SAVING\n",
    "Saving the results to the appropriate folder"
   ]
  },
  {
   "cell_type": "code",
   "execution_count": 27,
   "metadata": {
    "colab": {
     "base_uri": "https://localhost:8080/"
    },
    "executionInfo": {
     "elapsed": 381,
     "status": "ok",
     "timestamp": 1719221087901,
     "user": {
      "displayName": "SALVATORE ERGOLI",
      "userId": "14259257916772642186"
     },
     "user_tz": -120
    },
    "id": "s4oKzzGK2aOG",
    "outputId": "eba1bbf9-4edb-45e7-bb20-96c51eb50dbf"
   },
   "outputs": [
    {
     "name": "stdout",
     "output_type": "stream",
     "text": [
      "Report saved to /home/m.sanna21/V_HLT/outputs/reports/3_logreg_tfidf.txt\n"
     ]
    }
   ],
   "source": [
    "save_path = os.path.join(root_path, 'outputs', 'reports', '3_logreg_tfidf.txt')\n",
    "trainer.save_results(X_test_multi, y_test_multi, save_path)"
   ]
  },
  {
   "cell_type": "markdown",
   "metadata": {},
   "source": [
    "<div style=\"font-size: 22px;\">   \n",
    "\n",
    "In conclusion, we found that the **logic regression with the Countvectorizer** feature extraction technique is our **strongest baseline for both binary and multiclass classification tasks** , which we will try to surpass while implementing advanced Machine Learning models. \n",
    "\n",
    "<br></div>"
   ]
  },
  {
   "cell_type": "markdown",
   "metadata": {},
   "source": [
    "# MODELS SAVING\n",
    "\n",
    "Saving the final models to the appropriate folder"
   ]
  },
  {
   "cell_type": "code",
   "execution_count": 28,
   "metadata": {
    "colab": {
     "base_uri": "https://localhost:8080/"
    },
    "executionInfo": {
     "elapsed": 431,
     "status": "ok",
     "timestamp": 1719221089882,
     "user": {
      "displayName": "SALVATORE ERGOLI",
      "userId": "14259257916772642186"
     },
     "user_tz": -120
    },
    "id": "vhT_yVvB2aOH",
    "outputId": "e8c4182c-5d04-47d9-ad5c-8a31f0f5cde9"
   },
   "outputs": [
    {
     "name": "stdout",
     "output_type": "stream",
     "text": [
      "------------------------------------------------------------------------------------------------------\n",
      "| Save model 'logreg_countvect_bin' to /home/m.sanna21/V_HLT/outputs/models/logreg_countvect_bin.pkl |\n",
      "------------------------------------------------------------------------------------------------------\n",
      "----------------------------------------------------------------------------------------------------------\n",
      "| Save model 'logreg_countvect_multi' to /home/m.sanna21/V_HLT/outputs/models/logreg_countvect_multi.pkl |\n",
      "----------------------------------------------------------------------------------------------------------\n",
      "----------------------------------------------------------------------------------------------\n",
      "| Save model 'logreg_tfidf_bin' to /home/m.sanna21/V_HLT/outputs/models/logreg_tfidf_bin.pkl |\n",
      "----------------------------------------------------------------------------------------------\n",
      "--------------------------------------------------------------------------------------------------\n",
      "| Save model 'logreg_tfidf_multi' to /home/m.sanna21/V_HLT/outputs/models/logreg_tfidf_multi.pkl |\n",
      "--------------------------------------------------------------------------------------------------\n"
     ]
    }
   ],
   "source": [
    "# saving of the best models after grid search\n",
    "handler = ModelHandler(path_models)\n",
    "\n",
    "\n",
    "models = {\n",
    "    \"logreg_countvect_bin\" : best_model_logreg_countvect_bin,\n",
    "    \"logreg_countvect_multi\" : best_model_logreg_countvect_multi,\n",
    "    \"logreg_tfidf_bin\" : best_model_logreg_tfidf_bin,\n",
    "    \"logreg_tfidf_multi\" : best_model_logreg_tfidf_multi\n",
    "}\n",
    "\n",
    "handler.save_models(models)"
   ]
  }
 ],
 "metadata": {
  "colab": {
   "provenance": []
  },
  "kernelspec": {
   "display_name": "Python 3 (ipykernel)",
   "language": "python",
   "name": "python3"
  },
  "language_info": {
   "codemirror_mode": {
    "name": "ipython",
    "version": 3
   },
   "file_extension": ".py",
   "mimetype": "text/x-python",
   "name": "python",
   "nbconvert_exporter": "python",
   "pygments_lexer": "ipython3",
   "version": "3.10.12"
  }
 },
 "nbformat": 4,
 "nbformat_minor": 4
}
