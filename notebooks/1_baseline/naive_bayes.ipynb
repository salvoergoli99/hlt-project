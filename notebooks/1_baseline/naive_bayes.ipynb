{
 "cells": [
  {
   "cell_type": "markdown",
   "metadata": {},
   "source": [
    "# CLASSIFICATION WITH NAIVE BAYES CLASSIFIER\n",
    "\n",
    "by ChunkDevs (Group 1)"
   ]
  },
  {
   "cell_type": "markdown",
   "metadata": {},
   "source": [
    "One of the models that have been chosen for our project baseline is **Naive Bayes classifier**, a generative classifier which builds a model of how a class could generate some input data. This classifier makes a strong simplifying (naive) assumption called Naive Bayes assumption, which assumes the conditional independence between the features. This kind of model can work extremely well ) on very small datasets or short documents. Furthermore, naive Bayes is easy to implement and very fast to train, since there’s no optimization step into this model learning process. \n",
    "\n",
    "In order to transform the tweets in a input data that is compatible with this model, we will try two different feature extraction techniques: **Bag Of Words** (**BOW**) and **Term Frequency - Inverse Document Frequency** (**TF-IDF**). We will use `CountVectorizer` and `TfidfVectorizer` classes from `sklearn.feature_extraction.text `.\n",
    "\n",
    "We will try BOW and TF-IDF for both binary and multiclass classification task, therefore, we will use the class `ChunkDevs_GridTrainer` of our library to select the best hyperparameteres with the gridsearch with cross-validation, validate our model and finally predict on the raw unprocessed tweets of the test set."
   ]
  },
  {
   "cell_type": "code",
   "execution_count": 1,
   "metadata": {
    "executionInfo": {
     "elapsed": 328,
     "status": "ok",
     "timestamp": 1719221504114,
     "user": {
      "displayName": "SALVATORE ERGOLI",
      "userId": "14259257916772642186"
     },
     "user_tz": -120
    },
    "id": "o6cG3lccXKzl"
   },
   "outputs": [],
   "source": [
    "import sys\n",
    "import os\n",
    "\n",
    "directory = os.getcwd().split(os.path.sep)\n",
    "root_index = directory.index(\"V_HLT\")\n",
    "root_path = os.path.sep.join(directory[:root_index+1])\n",
    "\n",
    "sys.path.append(root_path)"
   ]
  },
  {
   "cell_type": "code",
   "execution_count": 2,
   "metadata": {
    "executionInfo": {
     "elapsed": 12,
     "status": "ok",
     "timestamp": 1719221731384,
     "user": {
      "displayName": "SALVATORE ERGOLI",
      "userId": "14259257916772642186"
     },
     "user_tz": -120
    },
    "id": "MBVJHtNjXKzw"
   },
   "outputs": [
    {
     "name": "stderr",
     "output_type": "stream",
     "text": [
      "2024-06-24 18:05:02.326055: I tensorflow/core/util/port.cc:113] oneDNN custom operations are on. You may see slightly different numerical results due to floating-point round-off errors from different computation orders. To turn them off, set the environment variable `TF_ENABLE_ONEDNN_OPTS=0`.\n",
      "2024-06-24 18:05:02.527405: I tensorflow/core/platform/cpu_feature_guard.cc:210] This TensorFlow binary is optimized to use available CPU instructions in performance-critical operations.\n",
      "To enable the following instructions: AVX2 AVX512F AVX512_VNNI FMA, in other operations, rebuild TensorFlow with the appropriate compiler flags.\n",
      "2024-06-24 18:05:05.992669: W tensorflow/compiler/tf2tensorrt/utils/py_utils.cc:38] TF-TRT Warning: Could not find TensorRT\n"
     ]
    }
   ],
   "source": [
    "import numpy as np\n",
    "import pandas as pd\n",
    "\n",
    "import matplotlib.pyplot as plt\n",
    "import seaborn as sns\n",
    "\n",
    "from _chunkdevs.models import ChunkDevs_GridTrainer, ModelHandler\n",
    "from _chunkdevs.data_functions import *\n",
    "\n",
    "from sklearn.model_selection import train_test_split, KFold\n",
    "from sklearn.naive_bayes import MultinomialNB, CategoricalNB, GaussianNB, BernoulliNB\n",
    "from sklearn.metrics import (\n",
    "    accuracy_score,\n",
    "    f1_score,\n",
    "    classification_report,\n",
    "    confusion_matrix,\n",
    "    roc_auc_score,\n",
    ")\n",
    "from sklearn.feature_extraction.text import TfidfVectorizer, CountVectorizer"
   ]
  },
  {
   "cell_type": "markdown",
   "metadata": {},
   "source": [
    "# DATA LOADING"
   ]
  },
  {
   "cell_type": "code",
   "execution_count": 3,
   "metadata": {
    "executionInfo": {
     "elapsed": 1258,
     "status": "ok",
     "timestamp": 1719221552098,
     "user": {
      "displayName": "SALVATORE ERGOLI",
      "userId": "14259257916772642186"
     },
     "user_tz": -120
    },
    "id": "nXjjedcDXKzy"
   },
   "outputs": [],
   "source": [
    "dev_path = os.path.join(root_path, \"data\", \"processed\", \"english_tweets_dev_set.csv\")\n",
    "dev = pd.read_csv(dev_path, encoding=\"utf-8\", skipinitialspace=True)\n",
    "\n",
    "test_path = os.path.join(root_path, \"data\", \"processed\", \"english_tweets_test_set.csv\")\n",
    "test = pd.read_csv(test_path, encoding=\"utf-8\", skipinitialspace=True)"
   ]
  },
  {
   "cell_type": "code",
   "execution_count": 4,
   "metadata": {
    "colab": {
     "base_uri": "https://localhost:8080/",
     "height": 423
    },
    "executionInfo": {
     "elapsed": 338,
     "status": "ok",
     "timestamp": 1719221556325,
     "user": {
      "displayName": "SALVATORE ERGOLI",
      "userId": "14259257916772642186"
     },
     "user_tz": -120
    },
    "id": "NRK_wS-oXKz0",
    "outputId": "a3681c6a-18f1-456b-d32e-c5008fb1e5c3"
   },
   "outputs": [
    {
     "data": {
      "text/plain": [
       "((26268, 5), (2922, 4))"
      ]
     },
     "execution_count": 4,
     "metadata": {},
     "output_type": "execute_result"
    }
   ],
   "source": [
    "dev.shape, test.shape"
   ]
  },
  {
   "cell_type": "code",
   "execution_count": 5,
   "metadata": {},
   "outputs": [
    {
     "data": {
      "text/html": [
       "<div>\n",
       "<style scoped>\n",
       "    .dataframe tbody tr th:only-of-type {\n",
       "        vertical-align: middle;\n",
       "    }\n",
       "\n",
       "    .dataframe tbody tr th {\n",
       "        vertical-align: top;\n",
       "    }\n",
       "\n",
       "    .dataframe thead th {\n",
       "        text-align: right;\n",
       "    }\n",
       "</style>\n",
       "<table border=\"1\" class=\"dataframe\">\n",
       "  <thead>\n",
       "    <tr style=\"text-align: right;\">\n",
       "      <th></th>\n",
       "      <th>tweet_text</th>\n",
       "      <th>cyberbullying_type</th>\n",
       "      <th>cyberbullying_type_bin</th>\n",
       "      <th>cyberbullying_type_multi</th>\n",
       "      <th>tweet_text_cleaned</th>\n",
       "    </tr>\n",
       "  </thead>\n",
       "  <tbody>\n",
       "    <tr>\n",
       "      <th>0</th>\n",
       "      <td>I was bullied in fourth grade cause my twin li...</td>\n",
       "      <td>age</td>\n",
       "      <td>1</td>\n",
       "      <td>0</td>\n",
       "      <td>i was bullied in fourth grade cause my twin li...</td>\n",
       "    </tr>\n",
       "    <tr>\n",
       "      <th>1</th>\n",
       "      <td>I bullied myself for not looking like the othe...</td>\n",
       "      <td>age</td>\n",
       "      <td>1</td>\n",
       "      <td>0</td>\n",
       "      <td>i bullied myself for not looking like the othe...</td>\n",
       "    </tr>\n",
       "    <tr>\n",
       "      <th>2</th>\n",
       "      <td>Hijabi lives in a diverse community and joins ...</td>\n",
       "      <td>age</td>\n",
       "      <td>1</td>\n",
       "      <td>0</td>\n",
       "      <td>hijabi lives in a diverse community and joins ...</td>\n",
       "    </tr>\n",
       "    <tr>\n",
       "      <th>3</th>\n",
       "      <td>Your amazing me and my son who’s 11 and a aspi...</td>\n",
       "      <td>age</td>\n",
       "      <td>1</td>\n",
       "      <td>0</td>\n",
       "      <td>your amazing me and my son whos 11 and a aspir...</td>\n",
       "    </tr>\n",
       "    <tr>\n",
       "      <th>4</th>\n",
       "      <td>I hope all the bitches who bullied girls in hi...</td>\n",
       "      <td>age</td>\n",
       "      <td>1</td>\n",
       "      <td>0</td>\n",
       "      <td>i hope all the bitches who bullied girls in hi...</td>\n",
       "    </tr>\n",
       "  </tbody>\n",
       "</table>\n",
       "</div>"
      ],
      "text/plain": [
       "                                          tweet_text cyberbullying_type  \\\n",
       "0  I was bullied in fourth grade cause my twin li...                age   \n",
       "1  I bullied myself for not looking like the othe...                age   \n",
       "2  Hijabi lives in a diverse community and joins ...                age   \n",
       "3  Your amazing me and my son who’s 11 and a aspi...                age   \n",
       "4  I hope all the bitches who bullied girls in hi...                age   \n",
       "\n",
       "   cyberbullying_type_bin  cyberbullying_type_multi  \\\n",
       "0                       1                         0   \n",
       "1                       1                         0   \n",
       "2                       1                         0   \n",
       "3                       1                         0   \n",
       "4                       1                         0   \n",
       "\n",
       "                                  tweet_text_cleaned  \n",
       "0  i was bullied in fourth grade cause my twin li...  \n",
       "1  i bullied myself for not looking like the othe...  \n",
       "2  hijabi lives in a diverse community and joins ...  \n",
       "3  your amazing me and my son whos 11 and a aspir...  \n",
       "4  i hope all the bitches who bullied girls in hi...  "
      ]
     },
     "execution_count": 5,
     "metadata": {},
     "output_type": "execute_result"
    }
   ],
   "source": [
    "dev.head()"
   ]
  },
  {
   "cell_type": "code",
   "execution_count": 6,
   "metadata": {},
   "outputs": [
    {
     "data": {
      "text/html": [
       "<div>\n",
       "<style scoped>\n",
       "    .dataframe tbody tr th:only-of-type {\n",
       "        vertical-align: middle;\n",
       "    }\n",
       "\n",
       "    .dataframe tbody tr th {\n",
       "        vertical-align: top;\n",
       "    }\n",
       "\n",
       "    .dataframe thead th {\n",
       "        text-align: right;\n",
       "    }\n",
       "</style>\n",
       "<table border=\"1\" class=\"dataframe\">\n",
       "  <thead>\n",
       "    <tr style=\"text-align: right;\">\n",
       "      <th></th>\n",
       "      <th>tweet_text</th>\n",
       "      <th>cyberbullying_type</th>\n",
       "      <th>cyberbullying_type_bin</th>\n",
       "      <th>cyberbullying_type_multi</th>\n",
       "    </tr>\n",
       "  </thead>\n",
       "  <tbody>\n",
       "    <tr>\n",
       "      <th>0</th>\n",
       "      <td>Concept of 'Dark Power': Like soft power, but ...</td>\n",
       "      <td>age</td>\n",
       "      <td>1</td>\n",
       "      <td>0</td>\n",
       "    </tr>\n",
       "    <tr>\n",
       "      <th>1</th>\n",
       "      <td>I want to cyber bully a school board member</td>\n",
       "      <td>age</td>\n",
       "      <td>1</td>\n",
       "      <td>0</td>\n",
       "    </tr>\n",
       "    <tr>\n",
       "      <th>2</th>\n",
       "      <td>my school was super chill about it.... unlike ...</td>\n",
       "      <td>age</td>\n",
       "      <td>1</td>\n",
       "      <td>0</td>\n",
       "    </tr>\n",
       "    <tr>\n",
       "      <th>3</th>\n",
       "      <td>If that person is a school yard bully won't th...</td>\n",
       "      <td>age</td>\n",
       "      <td>1</td>\n",
       "      <td>0</td>\n",
       "    </tr>\n",
       "    <tr>\n",
       "      <th>4</th>\n",
       "      <td>I can't stand his voice or his look. He's a sm...</td>\n",
       "      <td>age</td>\n",
       "      <td>1</td>\n",
       "      <td>0</td>\n",
       "    </tr>\n",
       "  </tbody>\n",
       "</table>\n",
       "</div>"
      ],
      "text/plain": [
       "                                          tweet_text cyberbullying_type  \\\n",
       "0  Concept of 'Dark Power': Like soft power, but ...                age   \n",
       "1        I want to cyber bully a school board member                age   \n",
       "2  my school was super chill about it.... unlike ...                age   \n",
       "3  If that person is a school yard bully won't th...                age   \n",
       "4  I can't stand his voice or his look. He's a sm...                age   \n",
       "\n",
       "   cyberbullying_type_bin  cyberbullying_type_multi  \n",
       "0                       1                         0  \n",
       "1                       1                         0  \n",
       "2                       1                         0  \n",
       "3                       1                         0  \n",
       "4                       1                         0  "
      ]
     },
     "execution_count": 6,
     "metadata": {},
     "output_type": "execute_result"
    }
   ],
   "source": [
    "test.head()"
   ]
  },
  {
   "cell_type": "code",
   "execution_count": 7,
   "metadata": {
    "executionInfo": {
     "elapsed": 304,
     "status": "ok",
     "timestamp": 1719221562447,
     "user": {
      "displayName": "SALVATORE ERGOLI",
      "userId": "14259257916772642186"
     },
     "user_tz": -120
    },
    "id": "DGRexgd3XKz4"
   },
   "outputs": [],
   "source": [
    "path_models = os.path.join(root_path, 'outputs', 'models')\n",
    "\n",
    "RANDOM_STATE = 42\n",
    "\n",
    "k_fold = KFold(n_splits=5, shuffle=True, random_state=RANDOM_STATE)"
   ]
  },
  {
   "cell_type": "markdown",
   "metadata": {},
   "source": [
    "<div style=\"font-size: 16px;\">\n",
    "    \n",
    "Using the same `RANDOM_STATE` value as the other notebook. For the crossvalidation approach, we decided to split the dev-set into 5 folds and shuffling the examples for each iteration during the gridsearch of the models.    \n",
    "\n",
    "<br>\n",
    "</div>"
   ]
  },
  {
   "cell_type": "markdown",
   "metadata": {
    "id": "pyFnWlGCXWmL"
   },
   "source": [
    "# FEATURES EXTRACTION WITH COUNTVECTORIZER"
   ]
  },
  {
   "cell_type": "markdown",
   "metadata": {
    "id": "Hcl7SfEZYOms"
   },
   "source": [
    "<div style=\"font-size: 16px;\">\n",
    "    \n",
    "We've istantiated a **Bernoulli Naive Bayes** model to classify cyberbullying tweets using a Bag of Words (BoW) representation. This model has been chosen for this kind of technique because it is particularly well-suited for binary features, making it a good fit for text data that is vectorized into binary counts, as it assumes binary-valued features.\n",
    "\n",
    "</div>"
   ]
  },
  {
   "cell_type": "markdown",
   "metadata": {},
   "source": [
    "## BINARY CLASSIFICATION TASK"
   ]
  },
  {
   "cell_type": "markdown",
   "metadata": {},
   "source": [
    "<div style=\"font-size: 16px;\">\n",
    "\n",
    "Initially, a `BernoulliNB model` and a `CountVectorizer` are instantiated to convert text data into binary vectors. We extracts the cleaned tweet texts and their corresponding binary labels for both the development and test datasets. We then fit the `CountVectorizer` to the development dataset and transforms both the development and test datasets into binary vector forms. A parameter grid is defined for hyperparameter tuning, specifying various values for `alpha`, `fit_prior` and `binarize` to find the optimal model configuration during cross-validation.\n",
    "\n",
    "</div>"
   ]
  },
  {
   "cell_type": "code",
   "execution_count": 8,
   "metadata": {
    "executionInfo": {
     "elapsed": 3144,
     "status": "ok",
     "timestamp": 1719221574941,
     "user": {
      "displayName": "SALVATORE ERGOLI",
      "userId": "14259257916772642186"
     },
     "user_tz": -120
    },
    "id": "ODuC1G57XKz5"
   },
   "outputs": [],
   "source": [
    "model = BernoulliNB()\n",
    "vectorizer = CountVectorizer()\n",
    "\n",
    "\n",
    "X_dev_bin = dev['tweet_text_cleaned'].values\n",
    "y_dev_bin = dev['cyberbullying_type_bin'].values\n",
    "X_test_bin = test['tweet_text'].values\n",
    "y_test_bin = test['cyberbullying_type_bin'].values\n",
    "\n",
    "X_dev_bin = vectorizer.fit_transform(X_dev_bin)\n",
    "X_test_bin = vectorizer.transform(X_test_bin)\n",
    "\n",
    "\n",
    "param_grid = {\n",
    "    'alpha': [0.1, 0.5, 1.0, 2.0, 5.0],\n",
    "    'fit_prior': [True, False],\n",
    "    'binarize': [0.0, 0.5, 1.0]\n",
    "}"
   ]
  },
  {
   "cell_type": "markdown",
   "metadata": {},
   "source": [
    "For the model implementation, we used our class `ChunkDevs_GridTrainer` for training different models using Grid Search with cross-validation.\n",
    "\n",
    "\n",
    "This are the **attributes** needed for our class:\n",
    "\n",
    "- `model` : The model to be optimized. (Compatible with NB, LogReg, SVM, and XGB)\n",
    "- `param_grid` : The model parameter grid to search over.\n",
    "- `scoring` : The scoring metric to use for evaluation, in all the notebook we used **f1 score for binary** tasks and **accuracy for multiclass** \n",
    "- `cv` : The cross-validation strategy (5 folds with shuffling have been used for every model (except for LSTM and transformers )in order to maintain the same procedure)\n",
    "- `n_jobs` : The number of jobs to run in parallel. (always -1 for enabling parallel use of the processors)\n",
    "- `grid_search` : The GridSearchCV object after fitting.\n",
    "\n",
    "This are the **methods** available with our class:\n",
    "\n",
    "- `train`: Train the model using Grid Search with the provided training data.\n",
    "- `predict` Make blind predictions using the trained model.\n",
    "- `get_best_params`Get the best parameters found by Grid Search.\n",
    "- `get_best_score` Get the best score achieved by Grid Search.\n",
    "- `get_classification_report` Get the classification report for the test data.\n",
    "- `get_confusion_matrix` Get the confusion matrix for the test data.\n",
    "- `save_results` Save the Grid Search results and classification report to a file."
   ]
  },
  {
   "cell_type": "markdown",
   "metadata": {},
   "source": [
    "### GRIDSEARCH AND TRAINING"
   ]
  },
  {
   "cell_type": "markdown",
   "metadata": {},
   "source": [
    "Gridsearch with 5-fold cross-validation and shuffling enabled. After finding the best hyperparameters, we train the model using all the dev-set\n",
    "\n",
    "For the binary task, the `ChunkDevs_GridTrainer` is initialized with \"f1_weighted\" as scoring because the dataset has an imbalanced class distribution, with the \"not cyberbullying\" class being less numerous than the \"cyberbullying\" class. In such cases, accuracy  can be misleading since a model could achieve high accuracy by simply predicting the majority class."
   ]
  },
  {
   "cell_type": "code",
   "execution_count": 9,
   "metadata": {
    "colab": {
     "base_uri": "https://localhost:8080/"
    },
    "executionInfo": {
     "elapsed": 11032,
     "status": "ok",
     "timestamp": 1719221605397,
     "user": {
      "displayName": "SALVATORE ERGOLI",
      "userId": "14259257916772642186"
     },
     "user_tz": -120
    },
    "id": "nZ5ImD0MXKz6",
    "outputId": "f997f6fc-83a3-4864-c363-0992c04e25fd"
   },
   "outputs": [
    {
     "name": "stdout",
     "output_type": "stream",
     "text": [
      "Best Parameters: {'alpha': 1.0, 'binarize': 0.0, 'fit_prior': True} \n",
      "\n"
     ]
    }
   ],
   "source": [
    "# binary classification\n",
    "trainer = ChunkDevs_GridTrainer(model=model, param_grid=param_grid, scoring=\"f1_weighted\", cv=k_fold, n_jobs=-1)\n",
    "best_model_bernoulli_countvect_bin = trainer.train(X_dev_bin, y_dev_bin)\n",
    "best_params = trainer.get_best_params()\n",
    "print(f\"Best Parameters: {best_params} \\n\")"
   ]
  },
  {
   "cell_type": "markdown",
   "metadata": {},
   "source": [
    "### TESTING PHASE\n",
    "\n",
    "Testing of the assessed model to the test-set and showing our results"
   ]
  },
  {
   "cell_type": "code",
   "execution_count": 10,
   "metadata": {},
   "outputs": [
    {
     "name": "stdout",
     "output_type": "stream",
     "text": [
      "Classification report for BernoulliNB()\n",
      "              precision    recall  f1-score   support\n",
      "\n",
      "           0       0.55      0.50      0.53       487\n",
      "           1       0.90      0.92      0.91      2435\n",
      "\n",
      "    accuracy                           0.85      2922\n",
      "   macro avg       0.73      0.71      0.72      2922\n",
      "weighted avg       0.84      0.85      0.85      2922\n",
      "\n"
     ]
    }
   ],
   "source": [
    "y_pred_bin = trainer.predict(X_test_bin)\n",
    "print(f\"Classification report for {str(trainer.model)}/n \")\n",
    "report = trainer.get_classification_report(X_test_bin, y_test_bin)\n",
    "print(report)"
   ]
  },
  {
   "cell_type": "code",
   "execution_count": 11,
   "metadata": {
    "colab": {
     "base_uri": "https://localhost:8080/",
     "height": 607
    },
    "executionInfo": {
     "elapsed": 1369,
     "status": "ok",
     "timestamp": 1719221643435,
     "user": {
      "displayName": "SALVATORE ERGOLI",
      "userId": "14259257916772642186"
     },
     "user_tz": -120
    },
    "id": "SKBj34qyXKz7",
    "outputId": "3465b2cc-13fc-41c9-d114-98b54eb9aedc"
   },
   "outputs": [
    {
     "data": {
      "image/png": "[encoded data removed]",
      "text/plain": [
       "<Figure size 1200x600 with 2 Axes>"
      ]
     },
     "metadata": {},
     "output_type": "display_data"
    }
   ],
   "source": [
    "matrix = confusion_matrix(y_test_bin, y_pred_bin)\n",
    "\n",
    "plt.figure(figsize=(12, 6))\n",
    "sns.heatmap(matrix, annot=True, fmt='d', cmap='Blues')\n",
    "plt.xlabel('Predicted')\n",
    "plt.ylabel('True')\n",
    "plt.title('Confusion Matrix w/ Bernoulli CountVectorizer')\n",
    "plt.tight_layout()\n",
    "plt.savefig(os.path.join(root_path, 'outputs', 'img', 'baseline', 'NB_binary_BOW_CM.png'))\n",
    "plt.show()"
   ]
  },
  {
   "cell_type": "markdown",
   "metadata": {},
   "source": [
    "### RESULTS SAVING\n",
    "Saving the results to the appropriate folder"
   ]
  },
  {
   "cell_type": "code",
   "execution_count": 12,
   "metadata": {
    "colab": {
     "base_uri": "https://localhost:8080/"
    },
    "executionInfo": {
     "elapsed": 791,
     "status": "ok",
     "timestamp": 1719221649078,
     "user": {
      "displayName": "SALVATORE ERGOLI",
      "userId": "14259257916772642186"
     },
     "user_tz": -120
    },
    "id": "25DQsSiPXKz7",
    "outputId": "39930d12-95c6-4057-a974-d8491426d424"
   },
   "outputs": [
    {
     "name": "stdout",
     "output_type": "stream",
     "text": [
      "Report saved to /home/m.sanna21/V_HLT/outputs/reports/NB_binary_BOW.txt\n"
     ]
    }
   ],
   "source": [
    "save_path = os.path.join(root_path, 'outputs', 'reports', 'NB_binary_BOW.txt')\n",
    "trainer.save_results(X_test_bin, y_test_bin, save_path)"
   ]
  },
  {
   "cell_type": "markdown",
   "metadata": {},
   "source": [
    "## MULTICLASS CLASSIFICATION TASK"
   ]
  },
  {
   "cell_type": "code",
   "execution_count": 13,
   "metadata": {
    "executionInfo": {
     "elapsed": 2743,
     "status": "ok",
     "timestamp": 1719221659871,
     "user": {
      "displayName": "SALVATORE ERGOLI",
      "userId": "14259257916772642186"
     },
     "user_tz": -120
    },
    "id": "VFBwtc2CXKz9"
   },
   "outputs": [],
   "source": [
    "model = BernoulliNB()\n",
    "\n",
    "X_dev_multi = dev['tweet_text_cleaned'].values\n",
    "y_dev_multi = dev['cyberbullying_type_multi'].values\n",
    "X_test_multi = test['tweet_text'].values\n",
    "y_test_multi = test['cyberbullying_type_multi'].values\n",
    "\n",
    "X_dev_multi = vectorizer.fit_transform(X_dev_multi)\n",
    "X_test_multi = vectorizer.transform(X_test_multi)\n",
    "\n",
    "\n",
    "param_grid = {\n",
    "    'alpha': [0.1, 0.5, 1.0, 2.0, 5.0],\n",
    "    'fit_prior': [True, False],\n",
    "    'binarize': [0.0, 0.5, 1.0]\n",
    "}"
   ]
  },
  {
   "cell_type": "markdown",
   "metadata": {},
   "source": [
    "### GRIDSEARCH AND TRAINING\n",
    "\n",
    "Gridsearch with 5-fold cross-validation and shuffling enabled. After finding the best hyperparameters, we train the model using all the dev-set"
   ]
  },
  {
   "cell_type": "code",
   "execution_count": 14,
   "metadata": {
    "colab": {
     "base_uri": "https://localhost:8080/"
    },
    "executionInfo": {
     "elapsed": 4152,
     "status": "ok",
     "timestamp": 1719221668297,
     "user": {
      "displayName": "SALVATORE ERGOLI",
      "userId": "14259257916772642186"
     },
     "user_tz": -120
    },
    "id": "oQUUVwXuXKz9",
    "outputId": "6b3e58f5-615a-49be-a3ee-fc5aa9672940"
   },
   "outputs": [
    {
     "name": "stdout",
     "output_type": "stream",
     "text": [
      "Best Parameters: {'alpha': 0.5, 'binarize': 0.0, 'fit_prior': True} \n",
      "\n"
     ]
    }
   ],
   "source": [
    "# classification for multiclass task\n",
    "trainer = ChunkDevs_GridTrainer(model=model, param_grid=param_grid, scoring=\"accuracy\", cv=k_fold, n_jobs=-1)\n",
    "best_model_bernoulli_countvect_multi = trainer.train(X_dev_multi, y_dev_multi)\n",
    "best_params = trainer.get_best_params()\n",
    "print(f\"Best Parameters: {best_params} \\n\")"
   ]
  },
  {
   "cell_type": "markdown",
   "metadata": {},
   "source": [
    "### TESTING PHASE\n",
    "\n",
    "Testing of the assessed model to the test-set and showing our results"
   ]
  },
  {
   "cell_type": "code",
   "execution_count": 15,
   "metadata": {},
   "outputs": [
    {
     "name": "stdout",
     "output_type": "stream",
     "text": [
      "Classification report for BernoulliNB()\n",
      "              precision    recall  f1-score   support\n",
      "\n",
      "           0       0.95      0.92      0.93       487\n",
      "           1       0.95      0.93      0.94       487\n",
      "           2       0.90      0.73      0.81       487\n",
      "           3       0.54      0.62      0.57       487\n",
      "           4       0.60      0.70      0.64       487\n",
      "           5       0.94      0.88      0.91       487\n",
      "\n",
      "    accuracy                           0.79      2922\n",
      "   macro avg       0.81      0.79      0.80      2922\n",
      "weighted avg       0.81      0.79      0.80      2922\n",
      "\n"
     ]
    }
   ],
   "source": [
    "y_pred_multi = trainer.predict(X_test_multi)\n",
    "print(f\"Classification report for {str(trainer.model)}\")\n",
    "report = trainer.get_classification_report(X_test_multi, y_test_multi)\n",
    "print(report)"
   ]
  },
  {
   "cell_type": "code",
   "execution_count": 16,
   "metadata": {
    "colab": {
     "base_uri": "https://localhost:8080/",
     "height": 607
    },
    "executionInfo": {
     "elapsed": 1500,
     "status": "ok",
     "timestamp": 1719221686321,
     "user": {
      "displayName": "SALVATORE ERGOLI",
      "userId": "14259257916772642186"
     },
     "user_tz": -120
    },
    "id": "hwyeQMrbXKz-",
    "outputId": "80096a89-95c6-4de5-f530-66c86f3a3043"
   },
   "outputs": [
    {
     "data": {
      "image/png": "[encoded data removed]",
      "text/plain": [
       "<Figure size 1200x600 with 2 Axes>"
      ]
     },
     "metadata": {},
     "output_type": "display_data"
    }
   ],
   "source": [
    "matrix = confusion_matrix(y_test_multi, y_pred_multi)\n",
    "\n",
    "plt.figure(figsize=(12, 6))\n",
    "sns.heatmap(matrix, annot=True, fmt='d', cmap='Blues')\n",
    "plt.xlabel('Predicted')\n",
    "plt.ylabel('True')\n",
    "plt.title('Confusion Matrix w/ Multinomial CountVectorizer')\n",
    "plt.tight_layout()\n",
    "plt.savefig(os.path.join(root_path, 'outputs', 'img', 'baseline', 'NB_multiclass_BOW_CM.png'))\n",
    "plt.show()"
   ]
  },
  {
   "cell_type": "markdown",
   "metadata": {},
   "source": [
    "### RESULTS SAVING\n",
    "Saving the results to the appropriate folder"
   ]
  },
  {
   "cell_type": "code",
   "execution_count": 17,
   "metadata": {
    "colab": {
     "base_uri": "https://localhost:8080/"
    },
    "executionInfo": {
     "elapsed": 303,
     "status": "ok",
     "timestamp": 1719221690505,
     "user": {
      "displayName": "SALVATORE ERGOLI",
      "userId": "14259257916772642186"
     },
     "user_tz": -120
    },
    "id": "EcoSj6jKXKz_",
    "outputId": "7933babc-45a5-4f10-c962-951898952fd7"
   },
   "outputs": [
    {
     "name": "stdout",
     "output_type": "stream",
     "text": [
      "Report saved to /home/m.sanna21/V_HLT/outputs/reports/NB_multiclass_BOW.txt\n"
     ]
    }
   ],
   "source": [
    "save_path = os.path.join(root_path, 'outputs', 'reports', 'NB_multiclass_BOW.txt')\n",
    "trainer.save_results(X_test_multi, y_test_multi, save_path)"
   ]
  },
  {
   "cell_type": "markdown",
   "metadata": {
    "id": "c4zyzGaIXK0A"
   },
   "source": [
    "# FEATURES EXTRACTION WITH TF-IDF"
   ]
  },
  {
   "cell_type": "markdown",
   "metadata": {
    "id": "snEJUY_Sdraa"
   },
   "source": [
    "We've instantiated a **Multinomial Naive Bayes** model to classify cyberbullying tweets using a TF-IDF representation. This model have been chosen for this technique because it is particularly well-suited for features that represent frequency counts or probabilities, making it a good fit for text data that is transformed into term frequency-inverse document frequency (TF-IDF) vectors."
   ]
  },
  {
   "cell_type": "markdown",
   "metadata": {},
   "source": [
    "## BINARY CLASSIFICATION TASK"
   ]
  },
  {
   "cell_type": "markdown",
   "metadata": {},
   "source": [
    "Initially, a `MultinomialNB` model and a `TfidfVectorizer` are instantiated to convert text data into TF-IDF vectors. We extract the cleaned tweet texts and their corresponding binary labels for both the development and test datasets. We then fit the `TfidfVectorizer` to the development dataset and transform both the development and test datasets into TF-IDF vector forms. \n",
    "\n",
    "A parameter grid is defined for hyperparameter tuning, specifying various values for `alpha`, `fit_prior` and `binarize` to find the optimal model configuration during cross-validation.\n",
    "\n",
    "For the training and the testing phase, we repeat the same procedure as before"
   ]
  },
  {
   "cell_type": "code",
   "execution_count": 18,
   "metadata": {
    "executionInfo": {
     "elapsed": 1416,
     "status": "ok",
     "timestamp": 1719221794224,
     "user": {
      "displayName": "SALVATORE ERGOLI",
      "userId": "14259257916772642186"
     },
     "user_tz": -120
    },
    "id": "Z2r2k1RmXK0C"
   },
   "outputs": [],
   "source": [
    "model = MultinomialNB()\n",
    "vectorizer = TfidfVectorizer()\n",
    "\n",
    "\n",
    "X_dev_bin = dev['tweet_text_cleaned'].values\n",
    "y_dev_bin = dev['cyberbullying_type_bin'].values\n",
    "X_test_bin = test['tweet_text'].values\n",
    "y_test_bin = test['cyberbullying_type_bin'].values\n",
    "\n",
    "X_dev_bin = vectorizer.fit_transform(X_dev_bin)\n",
    "X_test_bin = vectorizer.transform(X_test_bin)\n",
    "\n",
    "\n",
    "param_grid = {\n",
    "    'alpha': [0.1, 0.5, 1.0, 2.0, 5.0],\n",
    "    'fit_prior': [True, False]\n",
    "}"
   ]
  },
  {
   "cell_type": "markdown",
   "metadata": {},
   "source": [
    "### GRIDSEARCH AND TRAINING"
   ]
  },
  {
   "cell_type": "code",
   "execution_count": 19,
   "metadata": {
    "colab": {
     "base_uri": "https://localhost:8080/"
    },
    "executionInfo": {
     "elapsed": 2157,
     "status": "ok",
     "timestamp": 1719221948095,
     "user": {
      "displayName": "SALVATORE ERGOLI",
      "userId": "14259257916772642186"
     },
     "user_tz": -120
    },
    "id": "Tt-tm5AFXK0C",
    "outputId": "56236b47-24bd-40fb-a637-b49cf869c7fc"
   },
   "outputs": [
    {
     "name": "stdout",
     "output_type": "stream",
     "text": [
      "Best Parameters: {'alpha': 0.5, 'fit_prior': False} \n",
      "\n"
     ]
    }
   ],
   "source": [
    "# binary classification\n",
    "trainer = ChunkDevs_GridTrainer(model=model, param_grid=param_grid, scoring=\"f1_weighted\", cv=k_fold, n_jobs=-1)\n",
    "best_model_multinomial_tfidf_bin = trainer.train(X_dev_bin, y_dev_bin)\n",
    "best_params = trainer.get_best_params()\n",
    "print(f\"Best Parameters: {best_params} \\n\")"
   ]
  },
  {
   "cell_type": "markdown",
   "metadata": {},
   "source": [
    "### TESTING PHASE"
   ]
  },
  {
   "cell_type": "code",
   "execution_count": 20,
   "metadata": {},
   "outputs": [
    {
     "name": "stdout",
     "output_type": "stream",
     "text": [
      "Classification report for MultinomialNB()\n",
      "              precision    recall  f1-score   support\n",
      "\n",
      "           0       0.59      0.38      0.46       487\n",
      "           1       0.88      0.95      0.92      2435\n",
      "\n",
      "    accuracy                           0.85      2922\n",
      "   macro avg       0.74      0.66      0.69      2922\n",
      "weighted avg       0.84      0.85      0.84      2922\n",
      "\n"
     ]
    }
   ],
   "source": [
    "y_pred_bin = trainer.predict(X_test_bin)\n",
    "print(f\"Classification report for {str(trainer.model)}\")\n",
    "report = trainer.get_classification_report(X_test_bin, y_test_bin)\n",
    "print(report)"
   ]
  },
  {
   "cell_type": "code",
   "execution_count": 21,
   "metadata": {
    "colab": {
     "base_uri": "https://localhost:8080/",
     "height": 607
    },
    "executionInfo": {
     "elapsed": 1745,
     "status": "ok",
     "timestamp": 1719222041338,
     "user": {
      "displayName": "SALVATORE ERGOLI",
      "userId": "14259257916772642186"
     },
     "user_tz": -120
    },
    "id": "DFVAVeMGXK0D",
    "outputId": "ef0ee9e7-aeba-423b-fb57-f137e0ad5075"
   },
   "outputs": [
    {
     "data": {
      "image/png": "[encoded data removed]",
      "text/plain": [
       "<Figure size 1200x600 with 2 Axes>"
      ]
     },
     "metadata": {},
     "output_type": "display_data"
    }
   ],
   "source": [
    "matrix = confusion_matrix(y_test_bin, y_pred_bin)\n",
    "\n",
    "plt.figure(figsize=(12, 6))\n",
    "sns.heatmap(matrix, annot=True, fmt='d', cmap='Blues')\n",
    "plt.xlabel('Predicted')\n",
    "plt.ylabel('True')\n",
    "plt.title('Confusion Matrix w/ Multinomial TF-IDF')\n",
    "plt.tight_layout()\n",
    "plt.savefig(os.path.join(root_path, 'outputs', 'img', 'baseline', 'NB_binary_tfidf_CM.png'))\n",
    "plt.show()"
   ]
  },
  {
   "cell_type": "markdown",
   "metadata": {},
   "source": [
    "### RESULTS SAVING\n",
    "Saving the results to the appropriate folder"
   ]
  },
  {
   "cell_type": "code",
   "execution_count": 22,
   "metadata": {
    "colab": {
     "base_uri": "https://localhost:8080/"
    },
    "executionInfo": {
     "elapsed": 320,
     "status": "ok",
     "timestamp": 1719221909299,
     "user": {
      "displayName": "SALVATORE ERGOLI",
      "userId": "14259257916772642186"
     },
     "user_tz": -120
    },
    "id": "9F_rIqlIXK0E",
    "outputId": "30a3c9bb-edff-423f-92e7-61512c31c135"
   },
   "outputs": [
    {
     "name": "stdout",
     "output_type": "stream",
     "text": [
      "Report saved to /home/m.sanna21/V_HLT/outputs/reports/NB_binary_tfidf.txt\n"
     ]
    }
   ],
   "source": [
    "save_path = os.path.join(root_path, 'outputs', 'reports', 'NB_binary_tfidf.txt')\n",
    "trainer.save_results(X_test_bin, y_test_bin, save_path)"
   ]
  },
  {
   "cell_type": "markdown",
   "metadata": {},
   "source": [
    "## MULTICLASS CLASSIFICATION TASK"
   ]
  },
  {
   "cell_type": "code",
   "execution_count": 23,
   "metadata": {
    "executionInfo": {
     "elapsed": 1657,
     "status": "ok",
     "timestamp": 1719221912337,
     "user": {
      "displayName": "SALVATORE ERGOLI",
      "userId": "14259257916772642186"
     },
     "user_tz": -120
    },
    "id": "4rpG9tE8XK0E"
   },
   "outputs": [],
   "source": [
    "model = MultinomialNB()\n",
    "\n",
    "X_dev_multi = dev['tweet_text_cleaned'].values\n",
    "y_dev_multi = dev['cyberbullying_type_multi'].values\n",
    "X_test_multi = test['tweet_text'].values\n",
    "y_test_multi = test['cyberbullying_type_multi'].values\n",
    "\n",
    "X_train_multi = vectorizer.fit_transform(X_dev_multi)\n",
    "X_test_multi = vectorizer.transform(X_test_multi)\n",
    "\n",
    "\n",
    "param_grid = {\n",
    "    'alpha': [0.1, 0.5, 1.0, 2.0, 5.0],\n",
    "    'fit_prior': [True, False]\n",
    "}"
   ]
  },
  {
   "cell_type": "markdown",
   "metadata": {},
   "source": [
    "### GRIDSEARCH AND TRAINING"
   ]
  },
  {
   "cell_type": "code",
   "execution_count": 24,
   "metadata": {
    "colab": {
     "base_uri": "https://localhost:8080/"
    },
    "executionInfo": {
     "elapsed": 2662,
     "status": "ok",
     "timestamp": 1719221955206,
     "user": {
      "displayName": "SALVATORE ERGOLI",
      "userId": "14259257916772642186"
     },
     "user_tz": -120
    },
    "id": "KdIvpqAFXK0E",
    "outputId": "7824e2d7-1b13-41df-8e4d-4f0a5fe86874"
   },
   "outputs": [
    {
     "name": "stdout",
     "output_type": "stream",
     "text": [
      "Best Parameters: {'alpha': 0.1, 'fit_prior': False} \n",
      "\n"
     ]
    }
   ],
   "source": [
    "# classification for multiclass task\n",
    "trainer = ChunkDevs_GridTrainer(model=model, param_grid=param_grid, scoring=\"accuracy\", cv=k_fold, n_jobs=-1)\n",
    "best_model_multinomial_tfidf_multi = trainer.train(X_train_multi, y_dev_multi)\n",
    "best_params = trainer.get_best_params()\n",
    "print(f\"Best Parameters: {best_params} \\n\")"
   ]
  },
  {
   "cell_type": "markdown",
   "metadata": {},
   "source": [
    "### TESTING PHASE"
   ]
  },
  {
   "cell_type": "code",
   "execution_count": 25,
   "metadata": {},
   "outputs": [
    {
     "name": "stdout",
     "output_type": "stream",
     "text": [
      "Classification report for MultinomialNB()\n",
      "              precision    recall  f1-score   support\n",
      "\n",
      "           0       0.78      0.93      0.85       487\n",
      "           1       0.84      0.91      0.87       487\n",
      "           2       0.80      0.78      0.79       487\n",
      "           3       0.60      0.45      0.51       487\n",
      "           4       0.61      0.52      0.56       487\n",
      "           5       0.82      0.93      0.87       487\n",
      "\n",
      "    accuracy                           0.75      2922\n",
      "   macro avg       0.74      0.75      0.74      2922\n",
      "weighted avg       0.74      0.75      0.74      2922\n",
      "\n"
     ]
    }
   ],
   "source": [
    "y_pred_multi = trainer.predict(X_test_multi)\n",
    "print(f\"Classification report for {str(trainer.model)}\")\n",
    "report = trainer.get_classification_report(X_test_multi, y_test_multi)\n",
    "print(report)"
   ]
  },
  {
   "cell_type": "code",
   "execution_count": 26,
   "metadata": {
    "colab": {
     "base_uri": "https://localhost:8080/",
     "height": 607
    },
    "executionInfo": {
     "elapsed": 2325,
     "status": "ok",
     "timestamp": 1719222028344,
     "user": {
      "displayName": "SALVATORE ERGOLI",
      "userId": "14259257916772642186"
     },
     "user_tz": -120
    },
    "id": "3sNEBRR9XK0F",
    "outputId": "af195d79-5d65-4b39-bde1-647573404528"
   },
   "outputs": [
    {
     "data": {
      "image/png": "[encoded data removed]",
      "text/plain": [
       "<Figure size 1200x600 with 2 Axes>"
      ]
     },
     "metadata": {},
     "output_type": "display_data"
    }
   ],
   "source": [
    "matrix = confusion_matrix(y_test_multi, y_pred_multi)\n",
    "\n",
    "plt.figure(figsize=(12, 6))\n",
    "sns.heatmap(matrix, annot=True, fmt='d', cmap='Blues')\n",
    "plt.xlabel('Predicted')\n",
    "plt.ylabel('True')\n",
    "plt.title('Confusion Matrix w/ Multinomial TF-IDF')\n",
    "plt.tight_layout()\n",
    "plt.savefig(os.path.join(root_path, 'outputs', 'img', 'baseline', 'NB_multiclass_tfidf_CM.png'))\n",
    "plt.show()"
   ]
  },
  {
   "cell_type": "markdown",
   "metadata": {},
   "source": [
    "### RESULTS SAVING\n",
    "Saving the results to the appropriate folder"
   ]
  },
  {
   "cell_type": "code",
   "execution_count": 27,
   "metadata": {
    "colab": {
     "base_uri": "https://localhost:8080/"
    },
    "executionInfo": {
     "elapsed": 295,
     "status": "ok",
     "timestamp": 1719221830688,
     "user": {
      "displayName": "SALVATORE ERGOLI",
      "userId": "14259257916772642186"
     },
     "user_tz": -120
    },
    "id": "kartDhHuXK0F",
    "outputId": "df22efde-8deb-4bbe-9cd6-00bfb37c8f93"
   },
   "outputs": [
    {
     "name": "stdout",
     "output_type": "stream",
     "text": [
      "Report saved to /home/m.sanna21/V_HLT/outputs/reports/NB_multiclass_tfidf.txt\n"
     ]
    }
   ],
   "source": [
    "save_path = os.path.join(root_path, 'outputs', 'reports', 'NB_multiclass_tfidf.txt')\n",
    "trainer.save_results(X_test_multi, y_test_multi, save_path)"
   ]
  },
  {
   "cell_type": "markdown",
   "metadata": {},
   "source": [
    "# MODELS SAVING\n",
    "\n",
    "Saving the final models to the appropriate folder"
   ]
  },
  {
   "cell_type": "code",
   "execution_count": 28,
   "metadata": {
    "colab": {
     "base_uri": "https://localhost:8080/"
    },
    "executionInfo": {
     "elapsed": 317,
     "status": "ok",
     "timestamp": 1719222009914,
     "user": {
      "displayName": "SALVATORE ERGOLI",
      "userId": "14259257916772642186"
     },
     "user_tz": -120
    },
    "id": "z7smPSJoXK0G",
    "outputId": "01d03da3-a8f7-4bb6-b5a5-e5f7f0614c6f"
   },
   "outputs": [
    {
     "name": "stdout",
     "output_type": "stream",
     "text": [
      "------------------------------------------------------------------------------------------\n",
      "| Save model 'BNB_BOW_binary' to /home/m.sanna21/V_HLT/outputs/models/BNB_BOW_binary.pkl |\n",
      "------------------------------------------------------------------------------------------\n",
      "--------------------------------------------------------------------------------------------------\n",
      "| Save model 'BNB_BOW_multiclass' to /home/m.sanna21/V_HLT/outputs/models/BNB_BOW_multiclass.pkl |\n",
      "--------------------------------------------------------------------------------------------------\n",
      "----------------------------------------------------------------------------------------------\n",
      "| Save model 'MNB_TFIDF_binary' to /home/m.sanna21/V_HLT/outputs/models/MNB_TFIDF_binary.pkl |\n",
      "----------------------------------------------------------------------------------------------\n",
      "------------------------------------------------------------------------------------------------------\n",
      "| Save model 'MNB_TFIDF_multiclass' to /home/m.sanna21/V_HLT/outputs/models/MNB_TFIDF_multiclass.pkl |\n",
      "------------------------------------------------------------------------------------------------------\n"
     ]
    }
   ],
   "source": [
    "handler = ModelHandler(path_models)\n",
    "\n",
    "\n",
    "models = {\n",
    "    \"BNB_BOW_binary\" : best_model_bernoulli_countvect_bin,\n",
    "    \"BNB_BOW_multiclass\" : best_model_bernoulli_countvect_multi,\n",
    "    \"MNB_TFIDF_binary\" : best_model_multinomial_tfidf_bin,\n",
    "    \"MNB_TFIDF_multiclass\" : best_model_multinomial_tfidf_multi\n",
    "}\n",
    "\n",
    "handler.save_models(models)"
   ]
  },
  {
   "cell_type": "markdown",
   "metadata": {},
   "source": [
    "<div style=\"font-size: 22px;\">   \n",
    "\n",
    "Our baseline exhibit different strengths in identifying cyberbullying and not cyberbullying tweets. Firstly, in the\n",
    "binary task the Bernoulli Naive Bayes model with Bag-of-Words achieves 56% precision for non-cyberbullying (0)\n",
    "and 90% for cyberbullying (1), with a similar pattern in recall and F1-score. Meanwhile, the Multinomial Naive\n",
    "Bayes with TF-IDF scores higher in precision for non-cyberbullying (60%) but lower in recall, emphasizing its\n",
    "strengths and weaknesses in differentiating cyberbullying.\n",
    "\n",
    "Moving to to the multiclass task, we have seen strong performances from these models. Bernoulli Naive Bayes with BOW and Multinomial Naive Bayes with TF-IDF achieve accuracies of 79% and 75%, respectively.\n",
    "\n",
    "Naive Bayes is a **very good multiclass baseline** for our task, but it has been **slightly surpassed by logistic regression**\n",
    "\n",
    "<br></div>\n"
   ]
  }
 ],
 "metadata": {
  "colab": {
   "provenance": []
  },
  "kernelspec": {
   "display_name": "Python 3 (ipykernel)",
   "language": "python",
   "name": "python3"
  },
  "language_info": {
   "codemirror_mode": {
    "name": "ipython",
    "version": 3
   },
   "file_extension": ".py",
   "mimetype": "text/x-python",
   "name": "python",
   "nbconvert_exporter": "python",
   "pygments_lexer": "ipython3",
   "version": "3.10.12"
  }
 },
 "nbformat": 4,
 "nbformat_minor": 4
}
