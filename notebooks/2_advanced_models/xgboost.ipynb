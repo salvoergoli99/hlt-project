{
 "cells": [
  {
   "cell_type": "markdown",
   "metadata": {},
   "source": [
    "# CLASSIFICATION WITH EXTREME GRADIENT BOOSTING\n",
    "\n",
    "by ChunkDevs (Group 1)\n",
    "\n",
    "XGBoost (eXtreme Gradient Boosting) is an open-source software library which provides a regularizing gradient boosting framework.\n",
    "\n",
    "We decided to use this model becouse the author of the dataset have reached their best scores using this algorithm (94% accuracy, removing the not cyberbullying label)\n",
    "\n",
    "We trained an `XGBoost classifier` on our tweet data transformed by Count Vectorizer (BOW), while exploring different combinations of hyperparameters through grid search to find the optimal configuration for the best classification results.\n",
    "\n",
    "After the gridsearch we show our result in the notebook"
   ]
  },
  {
   "cell_type": "code",
   "execution_count": 1,
   "metadata": {
    "id": "cvRb6ZYkXhu3"
   },
   "outputs": [],
   "source": [
    "import sys\n",
    "import os\n",
    "\n",
    "directory = os.getcwd().split(os.path.sep)\n",
    "root_index = directory.index(\"V_HLT\")\n",
    "root_path = os.path.sep.join(directory[:root_index+1])\n",
    "\n",
    "sys.path.append(root_path)"
   ]
  },
  {
   "cell_type": "code",
   "execution_count": 2,
   "metadata": {
    "id": "Xwh26SnPXhvA"
   },
   "outputs": [
    {
     "name": "stderr",
     "output_type": "stream",
     "text": [
      "c:\\Users\\ASUS\\anaconda3\\envs\\HLT\\Lib\\site-packages\\tqdm\\auto.py:21: TqdmWarning: IProgress not found. Please update jupyter and ipywidgets. See https://ipywidgets.readthedocs.io/en/stable/user_install.html\n",
      "  from .autonotebook import tqdm as notebook_tqdm\n"
     ]
    }
   ],
   "source": [
    "import numpy as np\n",
    "import pandas as pd\n",
    "\n",
    "import matplotlib.pyplot as plt\n",
    "import seaborn as sns\n",
    "\n",
    "from _chunkdevs.models import ChunkDevs_GridTrainer, ModelHandler\n",
    "from _chunkdevs.data_functions import *\n",
    "\n",
    "from sklearn.model_selection import train_test_split, KFold\n",
    "from sklearn.preprocessing import OneHotEncoder\n",
    "import xgboost as xgb\n",
    "\n",
    "from sklearn.metrics import confusion_matrix, classification_report\n",
    "\n",
    "from sklearn.feature_extraction.text import TfidfTransformer, CountVectorizer\n",
    "from sklearn.feature_selection import SelectKBest, mutual_info_classif"
   ]
  },
  {
   "cell_type": "markdown",
   "metadata": {},
   "source": [
    "# DATA LOADING"
   ]
  },
  {
   "cell_type": "code",
   "execution_count": 3,
   "metadata": {
    "id": "N22n_mS_XhvD"
   },
   "outputs": [],
   "source": [
    "dev_path = os.path.join(root_path, \"data\", \"processed\", \"english_tweets_dev_set.csv\")\n",
    "dev = pd.read_csv(dev_path, encoding=\"utf-8\", skipinitialspace=True)\n",
    "\n",
    "test_path = os.path.join(root_path, \"data\", \"processed\", \"english_tweets_test_set.csv\")\n",
    "test = pd.read_csv(test_path, encoding=\"utf-8\", skipinitialspace=True)"
   ]
  },
  {
   "cell_type": "code",
   "execution_count": 4,
   "metadata": {
    "id": "tyxRW_QPXhvF"
   },
   "outputs": [],
   "source": [
    "RANDOM_STATE = 42\n",
    "\n",
    "k_fold = KFold(n_splits=5, shuffle=True, random_state=RANDOM_STATE)\n",
    "\n",
    "path_models = os.path.join(root_path, 'outputs', 'models')"
   ]
  },
  {
   "cell_type": "code",
   "execution_count": 5,
   "metadata": {
    "id": "KjAD9bp8XhvH"
   },
   "outputs": [],
   "source": [
    "X_dev_bin = dev['tweet_text_cleaned'].values\n",
    "y_dev_bin = dev['cyberbullying_type_bin'].values\n",
    "X_test_bin = test['tweet_text'].values\n",
    "y_test_bin = test['cyberbullying_type_bin'].values"
   ]
  },
  {
   "cell_type": "markdown",
   "metadata": {},
   "source": [
    "# BINARY CLASSIFICATION TASK"
   ]
  },
  {
   "cell_type": "markdown",
   "metadata": {
    "id": "WSPJk-YRc2jN"
   },
   "source": [
    "We trained an `XGBoost classifier` on our tweet data transformed by Count Vectorizer (BOW), while exploring different combinations of hyperparameters through grid search to find the optimal configuration for the best classification results.\n",
    "\n",
    "The hyperparameters chosen are the following:\n",
    "1.  `n_estimators`: determines the number of boosting rounds or trees to build;\n",
    "2.  `max_depth`: controls the maximum depth of each tree in the ensemble;\n",
    "3.  `learning_rate`: controls the shrinkage applied to each tree's prediction during training;\n",
    "4.  `min_child_weight`: defines the minimum sum of instance weight needed in child;\n",
    "5.  `gamma`: controls the minimum loss reduction required to make a further partition on a leaf node.\n",
    "\n",
    "\n",
    "\n"
   ]
  },
  {
   "cell_type": "code",
   "execution_count": 6,
   "metadata": {
    "id": "nb-6MdqHXhvJ"
   },
   "outputs": [],
   "source": [
    "vectorizer = CountVectorizer()\n",
    "model_bin = xgb.XGBClassifier(random_state=RANDOM_STATE, colsample_bytree=.6, subsample=.7)\n",
    "\n",
    "X_dev_bin = vectorizer.fit_transform(X_dev_bin)\n",
    "X_test_bin = vectorizer.transform(X_test_bin)\n",
    "\n",
    "param_grid = {\n",
    "    'n_estimators': [100, 300, 500],\n",
    "    'max_depth': [10, 20, 30],\n",
    "    'learning_rate': [0.05, 0.25] ,\n",
    "    'min_child_weight': [1, 2],\n",
    "    'gamma': [0.0, 0.1, 0.5]\n",
    "}"
   ]
  },
  {
   "cell_type": "markdown",
   "metadata": {},
   "source": [
    "## MODEL SELECTION"
   ]
  },
  {
   "cell_type": "code",
   "execution_count": 7,
   "metadata": {
    "id": "otp7zTmRXhvL"
   },
   "outputs": [
    {
     "data": {
      "text/plain": [
       "'\\n\\ntrainer = ChunkDevs_GridTrainer(model=model_bin, param_grid=param_grid, scoring=\"f1_weighted\", cv=k_fold, n_jobs=-1)\\nbest_model_bin = trainer.train(X_train_bin, y_dev_bin)\\nbest_params = trainer.get_best_params()\\nprint(f\"Best Parameters: {best_params} \\n\")\\n\\n'"
      ]
     },
     "execution_count": 7,
     "metadata": {},
     "output_type": "execute_result"
    }
   ],
   "source": [
    "# binary classification with F1-score as evaluation metric\n",
    "\n",
    "'''\n",
    "\n",
    "trainer = ChunkDevs_GridTrainer(model=model_bin, param_grid=param_grid, scoring=\"f1_weighted\", cv=k_fold, n_jobs=-1)\n",
    "best_model_bin = trainer.train(X_train_bin, y_dev_bin)\n",
    "best_params = trainer.get_best_params()\n",
    "print(f\"Best Parameters: {best_params} \\n\")\n",
    "\n",
    "'''"
   ]
  },
  {
   "cell_type": "markdown",
   "metadata": {},
   "source": [
    "## MODEL LOADING (for **not repeating the gridsearch**)"
   ]
  },
  {
   "cell_type": "markdown",
   "metadata": {},
   "source": [
    "Since the greadsearch can take a long time (almost 2 hours and a half), we leave our model to be loaded, with best parameters:\n",
    "\n",
    "- `n_estimators` = 500,\n",
    "- `max_depth` = 30,\n",
    "- `learning_rate`= 0.05,\n",
    "- `min_child_weight` = 1,\n",
    "- `gamma` = 0.0\n"
   ]
  },
  {
   "cell_type": "code",
   "execution_count": 8,
   "metadata": {},
   "outputs": [],
   "source": [
    "#Handler = ModelHandler(path_models)\n",
    "#best_model_bin = Handler.load_model(\"xgboost_binary\")\n",
    "#best_model_bin"
   ]
  },
  {
   "cell_type": "markdown",
   "metadata": {},
   "source": [
    "## TESTING PHASE\n",
    "\n",
    "Testing of the assessed model to the test-set and showing our results"
   ]
  },
  {
   "cell_type": "code",
   "execution_count": 9,
   "metadata": {},
   "outputs": [
    {
     "name": "stdout",
     "output_type": "stream",
     "text": [
      "              precision    recall  f1-score   support\n",
      "\n",
      "           0       0.65      0.48      0.55       487\n",
      "           1       0.90      0.95      0.92      2435\n",
      "\n",
      "    accuracy                           0.87      2922\n",
      "   macro avg       0.77      0.71      0.74      2922\n",
      "weighted avg       0.86      0.87      0.86      2922\n",
      "\n"
     ]
    }
   ],
   "source": [
    "best_model_bin = xgb.XGBClassifier(random_state=RANDOM_STATE, colsample_bytree=.6, subsample=.7,\n",
    "                                    n_estimators = 500,\n",
    "                                    max_depth = 30,\n",
    "                                    learning_rate= 0.05,\n",
    "                                    min_child_weight = 1,\n",
    "                                    gamma = 0.0\n",
    ")\n",
    "\n",
    "best_model_bin.fit(X_dev_bin, y_dev_bin)\n",
    "y_pred_bin = best_model_bin.predict(X_test_bin)\n",
    "report = classification_report(y_true=  y_test_bin, y_pred = y_pred_bin)\n",
    "print(report) "
   ]
  },
  {
   "cell_type": "code",
   "execution_count": 10,
   "metadata": {
    "id": "6PvYj8-uXhvM"
   },
   "outputs": [
    {
     "data": {
      "image/png": "[encoded data removed]",
      "text/plain": [
       "<Figure size 1200x600 with 2 Axes>"
      ]
     },
     "metadata": {},
     "output_type": "display_data"
    }
   ],
   "source": [
    "matrix = confusion_matrix(y_test_bin, y_pred_bin)\n",
    "\n",
    "plt.figure(figsize=(12, 6))\n",
    "sns.heatmap(matrix, annot=True, fmt='d', cmap='Blues')\n",
    "plt.xlabel('Predicted')\n",
    "plt.ylabel('True')\n",
    "plt.title('Confusion Matrix XGboost Binary')\n",
    "plt.tight_layout()\n",
    "# plt.savefig(os.path.join(root_path, 'outputs', 'img', 'baseline', '7_XGB_binary.png'))\n",
    "plt.show()"
   ]
  },
  {
   "cell_type": "markdown",
   "metadata": {},
   "source": [
    "### RESULTS SAVING\n",
    "\n",
    "Saving the results to the appripriate "
   ]
  },
  {
   "cell_type": "code",
   "execution_count": 11,
   "metadata": {},
   "outputs": [
    {
     "name": "stdout",
     "output_type": "stream",
     "text": [
      "Report saved to c:\\Users\\ASUS\\OneDrive - University of Pisa\\Human language technologies\\V_HLT\\outputs\\reports\\4_svc_countvect.txt\n"
     ]
    }
   ],
   "source": [
    "save_path = os.path.join(root_path, 'outputs', 'reports', '4_svc_countvect.txt')\n",
    "\n",
    "if type(best_model_bin) == ChunkDevs_GridTrainer:\n",
    "   \n",
    "    best_model_bin.save_results(X_test_bin, y_test_bin, save_path)\n",
    "\n",
    "else:\n",
    "        os.makedirs(os.path.dirname(save_path), exist_ok=True)\n",
    "\n",
    "        # Write the report contents to a file\n",
    "        with open(save_path, 'a') as file:\n",
    "            file.write(f\"Model: 4_svc_countvect\\n\")\n",
    "            file.write(f\"Best Parameters: {best_model_bin.get_params()}\\n\")\n",
    "            file.write(f\"Classification Report:\\n{report}\\n\")\n",
    "\n",
    "        # Print a confirmation message.\n",
    "        print(f\"Report saved to {save_path}\") "
   ]
  },
  {
   "cell_type": "markdown",
   "metadata": {},
   "source": [
    "# MULTICLASSIFICATION TASK  \n",
    "\n",
    "We repeat the same procedure as before, ando look for the model with the best accuracy"
   ]
  },
  {
   "cell_type": "code",
   "execution_count": 12,
   "metadata": {
    "id": "T4D8pC9NXhvO"
   },
   "outputs": [],
   "source": [
    "X_dev_multi = dev['tweet_text_cleaned'].values\n",
    "y_dev_multi = dev['cyberbullying_type_multi'].values\n",
    "X_test_multi = test['tweet_text'].values\n",
    "y_test_multi = test['cyberbullying_type_multi'].values"
   ]
  },
  {
   "cell_type": "markdown",
   "metadata": {},
   "source": [
    "## MODEL SELECTION"
   ]
  },
  {
   "cell_type": "code",
   "execution_count": 13,
   "metadata": {
    "id": "sWIBs1GsXhvQ"
   },
   "outputs": [],
   "source": [
    "vectorizer = CountVectorizer()\n",
    "model_multi = xgb.XGBClassifier(random_state=RANDOM_STATE, colsample_bytree=.6, subsample=.7)\n",
    "\n",
    "X_dev_multi = vectorizer.fit_transform(X_dev_multi)\n",
    "X_test_multi = vectorizer.transform(X_test_multi)\n",
    "\n",
    "param_grid = {\n",
    "    'n_estimators': [100, 300, 500],\n",
    "    'max_depth': [10, 20, 30],\n",
    "    'learning_rate': [0.05, 0.25] ,\n",
    "    'min_child_weight': [1, 2],\n",
    "    'gamma': [0.0, 0.1, 0.5]\n",
    "}"
   ]
  },
  {
   "cell_type": "code",
   "execution_count": 14,
   "metadata": {
    "id": "B6FF9ToSXhvS"
   },
   "outputs": [
    {
     "data": {
      "text/plain": [
       "'\\n\\ntrainer = ChunkDevs_GridTrainer(model=model_multi, param_grid=param_grid, scoring=\"accuracy\", cv=k_fold, n_jobs=-1)\\nbest_model_multi = trainer.train(X_train_multi, y_dev_multi)\\nbest_params = trainer.get_best_params()\\nprint(f\"Best Parameters: {best_params} \\n\")\\n\\n'"
      ]
     },
     "execution_count": 14,
     "metadata": {},
     "output_type": "execute_result"
    }
   ],
   "source": [
    "# multiclass classification with accuracy as evaluation metric\n",
    "'''\n",
    "\n",
    "trainer = ChunkDevs_GridTrainer(model=model_multi, param_grid=param_grid, scoring=\"accuracy\", cv=k_fold, n_jobs=-1)\n",
    "best_model_multi = trainer.train(X_train_multi, y_dev_multi)\n",
    "best_params = trainer.get_best_params()\n",
    "print(f\"Best Parameters: {best_params} \\n\")\n",
    "\n",
    "'''"
   ]
  },
  {
   "cell_type": "markdown",
   "metadata": {},
   "source": [
    "## MODEL LOADING (for **not repeating the gridsearch**)\n",
    "\n",
    "\n",
    "Since the greadsearch can take a long time, we leave our model to be loaded, with best parameters:\n",
    "\n",
    "- `n_estimators` = 500,\n",
    "- -`max_depth` = 30,\n",
    "- `learning_rate`= 0.05,\n",
    "- `min_child_weight` = 1,\n",
    "- `gamma` = 0.1\n",
    "\n"
   ]
  },
  {
   "cell_type": "code",
   "execution_count": 15,
   "metadata": {},
   "outputs": [
    {
     "data": {
      "text/plain": [
       "'\\nmodel_path = os.path.join(root_path, \\'outputs\\', \\'models\\')\\nHandler = ModelHandler(model_path)\\nbest_model_multi = Handler.load_model(\"xgboost_multi\")\\nbest_model_multi\\n'"
      ]
     },
     "execution_count": 15,
     "metadata": {},
     "output_type": "execute_result"
    }
   ],
   "source": [
    "\"\"\"\n",
    "model_path = os.path.join(root_path, 'outputs', 'models')\n",
    "Handler = ModelHandler(model_path)\n",
    "best_model_multi = Handler.load_model(\"xgboost_multi\")\n",
    "best_model_multi\n",
    "\"\"\"\n",
    "\n",
    "\n"
   ]
  },
  {
   "cell_type": "markdown",
   "metadata": {},
   "source": [
    "## TESTING PHASE"
   ]
  },
  {
   "cell_type": "code",
   "execution_count": 16,
   "metadata": {},
   "outputs": [
    {
     "name": "stdout",
     "output_type": "stream",
     "text": [
      "              precision    recall  f1-score   support\n",
      "\n",
      "           0       0.98      0.96      0.97       487\n",
      "           1       0.99      0.99      0.99       487\n",
      "           2       0.93      0.85      0.89       487\n",
      "           3       0.60      0.62      0.61       487\n",
      "           4       0.65      0.72      0.68       487\n",
      "           5       0.97      0.94      0.96       487\n",
      "\n",
      "    accuracy                           0.85      2922\n",
      "   macro avg       0.85      0.85      0.85      2922\n",
      "weighted avg       0.85      0.85      0.85      2922\n",
      "\n"
     ]
    }
   ],
   "source": [
    "best_model_multi = xgb.XGBClassifier(random_state=RANDOM_STATE, colsample_bytree=.6, subsample=.7,\n",
    "                                    n_estimators = 500,\n",
    "                                    max_depth = 30,\n",
    "                                    learning_rate= 0.05,\n",
    "                                    min_child_weight = 1,\n",
    "                                    gamma = 0.1\n",
    ")\n",
    "\n",
    "best_model_multi.fit(X_dev_multi, y_dev_multi)\n",
    "\n",
    "y_pred_multi = best_model_multi.predict(X_test_multi)\n",
    "report = classification_report(y_true=  y_test_multi, y_pred = y_pred_multi)\n",
    "print(report)"
   ]
  },
  {
   "cell_type": "code",
   "execution_count": 17,
   "metadata": {
    "id": "GoD_2m1VXhvU"
   },
   "outputs": [
    {
     "data": {
      "image/png": "[encoded data removed]",
      "text/plain": [
       "<Figure size 1200x600 with 2 Axes>"
      ]
     },
     "metadata": {},
     "output_type": "display_data"
    }
   ],
   "source": [
    "matrix = confusion_matrix(y_test_multi, y_pred_multi)\n",
    "\n",
    "plt.figure(figsize=(12, 6))\n",
    "sns.heatmap(matrix, annot=True, fmt='d', cmap='Blues')\n",
    "plt.xlabel('Predicted')\n",
    "plt.ylabel('True')\n",
    "plt.title('Confusion Matrix Xgboost multiclass')\n",
    "plt.tight_layout()\n",
    "# plt.savefig(os.path.join(root_path, 'outputs', 'img', 'baseline', '7_cm_logreg_tfidf_multi.png'))\n",
    "plt.show()"
   ]
  },
  {
   "cell_type": "markdown",
   "metadata": {},
   "source": [
    "### RESULTS SAVING\n",
    "\n",
    "Saving the results to the appripriate "
   ]
  },
  {
   "cell_type": "code",
   "execution_count": 18,
   "metadata": {},
   "outputs": [
    {
     "name": "stdout",
     "output_type": "stream",
     "text": [
      "Report saved to c:\\Users\\ASUS\\OneDrive - University of Pisa\\Human language technologies\\V_HLT\\outputs\\reports\\4_svc_countvect.txt\n"
     ]
    }
   ],
   "source": [
    "save_path = os.path.join(root_path, 'outputs', 'reports', '4_svc_countvect.txt')\n",
    "\n",
    "if type(best_model_multi) == ChunkDevs_GridTrainer:\n",
    "   \n",
    "    best_model_multi.save_results(X_test_bin, y_test_bin, save_path)\n",
    "\n",
    "else:\n",
    "        os.makedirs(os.path.dirname(save_path), exist_ok=True)\n",
    "\n",
    "        # Write the report contents to a file\n",
    "        with open(save_path, 'a') as file:\n",
    "            file.write(f\"Model: 4_svc_countvect\\n\")\n",
    "            file.write(f\"Best Parameters: {best_model_multi.get_params()}\\n\")\n",
    "            file.write(f\"Classification Report:\\n{report}\\n\")\n",
    "\n",
    "        # Print a confirmation message.\n",
    "        print(f\"Report saved to {save_path}\")"
   ]
  },
  {
   "cell_type": "markdown",
   "metadata": {},
   "source": [
    "# MODEL SAVING\n",
    "\n",
    "Saving the models to the appropriate folder"
   ]
  },
  {
   "cell_type": "code",
   "execution_count": 19,
   "metadata": {},
   "outputs": [
    {
     "name": "stdout",
     "output_type": "stream",
     "text": [
      "--------------------------------------------------------------------------------------------------------------------------------------------------\n",
      "| Save model 'xgboost_binary' to c:\\Users\\ASUS\\OneDrive - University of Pisa\\Human language technologies\\V_HLT\\outputs\\models\\xgboost_binary.pkl |\n",
      "--------------------------------------------------------------------------------------------------------------------------------------------------\n",
      "------------------------------------------------------------------------------------------------------------------------------------------------\n",
      "| Save model 'xgboost_multi' to c:\\Users\\ASUS\\OneDrive - University of Pisa\\Human language technologies\\V_HLT\\outputs\\models\\xgboost_multi.pkl |\n",
      "------------------------------------------------------------------------------------------------------------------------------------------------\n"
     ]
    }
   ],
   "source": [
    "# saving of the best models after grid search\n",
    "handler = ModelHandler(path_models)\n",
    "\n",
    "\n",
    "models = {\n",
    "    \"xgboost_binary\" : best_model_bin,\n",
    "    \"xgboost_multi\" : best_model_multi\n",
    "}\n",
    "\n",
    "handler.save_models(models)"
   ]
  },
  {
   "cell_type": "markdown",
   "metadata": {},
   "source": [
    "<div style=\"font-size: 22px;\">    \n",
    "\n",
    "Turning to the results for advanced models in the binary task, we observe notable improvements in the metrics.\n",
    "\n",
    "The XGBoost model demonstrates a **significant strength** with a precision of 65% for non-cyberbullying (0) and 90% for cyberbullying (1), along with a recall of 48% for non-cyberbullying and an impressive 95% for cyberbullying. The resulting F1-scores are 55% and 92% for non-cyberbullying and cyberbullying, respectively.\n",
    "\n",
    "In the multiclass task, the advanced models also exhibit strong performance. The XGBoost model achieves the highest accuracy at 85%, indicating its effectiveness in handling the complexity of multiclass classification. \n",
    "\n",
    "However, besides the pros, this model has very important cons, like its low recall recall value for the class 0 for binary classification, the long time for the grid search and the fact that, commonly with the other models, XGB confuses the not cyberbullying class with the not cyberbullying class\n",
    "\n",
    "<br></div>"
   ]
  },
  {
   "cell_type": "markdown",
   "metadata": {},
   "source": [
    "# COMPARING XGBOOSTING TO THE STATE OF THE ART MODEL"
   ]
  },
  {
   "cell_type": "markdown",
   "metadata": {},
   "source": [
    "In this phase, we tried to compare the preformances of our model with the one used from the authors of the dataset "
   ]
  },
  {
   "cell_type": "code",
   "execution_count": null,
   "metadata": {},
   "outputs": [],
   "source": [
    "dev = dev.loc[dev['cyberbullying_type_multi'] != 3, :]\n",
    "\n",
    "dev.loc[dev['cyberbullying_type_multi'] == 5, 'cyberbullying_type_multi'] = 3\n",
    "\n",
    "y_dev_multi = dev['cyberbullying_type_multi'].values\n",
    "\n",
    "test = test.loc[test['cyberbullying_type_multi'] != 3, :]\n",
    "\n",
    "test.loc[test['cyberbullying_type_multi'] == 5, 'cyberbullying_type_multi'] = 3\n",
    "\n",
    "y_test_multi = test['cyberbullying_type_multi'].values\n",
    "\n",
    "\n",
    "X_dev_multi = dev['tweet_text_cleaned'].values\n",
    "y_dev_multi = dev['cyberbullying_type_multi'].values\n",
    "X_test_multi = test['tweet_text'].values\n",
    "y_test_multi = test['cyberbullying_type_multi'].values"
   ]
  },
  {
   "cell_type": "markdown",
   "metadata": {},
   "source": [
    "After adapting the train and test labels, we proceed with the taining and testing of the model"
   ]
  },
  {
   "cell_type": "code",
   "execution_count": null,
   "metadata": {},
   "outputs": [],
   "source": [
    "vectorizer = CountVectorizer()\n",
    "model_multi = xgb.XGBClassifier(random_state=RANDOM_STATE, colsample_bytree=.6, subsample=.7)\n",
    "\n",
    "X_train_multi = vectorizer.fit_transform(X_dev_multi)\n",
    "X_test_multi = vectorizer.transform(X_test_multi)\n",
    "\n",
    "\"\"\"param_grid = {\n",
    "    'n_estimators': [100, 300, 500],\n",
    "    'max_depth': [10, 20, 30],\n",
    "    'learning_rate': [0.05, 0.25] ,\n",
    "    'min_child_weight': [1, 2],\n",
    "    'gamma': [0.0, 0.1, 0.5]\n",
    "}\"\"\"\n",
    "\n",
    "param_grid = {\n",
    "    'n_estimators': [300],\n",
    "    'max_depth': [30],\n",
    "    'learning_rate': [0.05],\n",
    "    'min_child_weight': [1],\n",
    "    'gamma': [0.1]\n",
    "}\n",
    "\n",
    "# multiclass classification with accuracy as evaluation metric\n",
    "trainer = ChunkDevs_GridTrainer(model=model_multi, param_grid=param_grid, scoring=\"accuracy\", cv=k_fold, n_jobs=-1)\n",
    "best_model_multi = trainer.train(X_train_multi, y_dev_multi)\n",
    "y_pred_multi = trainer.predict(X_test_multi)\n",
    "best_params = trainer.get_best_params()\n",
    "best_score = trainer.get_best_score()\n",
    "report = trainer.get_classification_report(X_test_multi, y_test_multi)\n",
    "print(f\"Best Parameters: {best_params} \\n\")\n",
    "print(f\"Best Score: {best_score} \\n\")\n",
    "print(report)"
   ]
  },
  {
   "cell_type": "code",
   "execution_count": null,
   "metadata": {},
   "outputs": [],
   "source": [
    "matrix = confusion_matrix(y_test_multi, y_pred_multi)\n",
    "\n",
    "plt.figure(figsize=(12, 6))\n",
    "sns.heatmap(matrix, annot=True, fmt='d', cmap='Blues')\n",
    "plt.xlabel('Predicted')\n",
    "plt.ylabel('True')\n",
    "plt.title('Confusion Matrix w/ LogReg TF-IDF')\n",
    "plt.tight_layout()\n",
    "# plt.savefig(os.path.join(root_path, 'outputs', 'img', '2_advanced_models', 'XGB_VS_SOA.png'))\n",
    "plt.show()"
   ]
  },
  {
   "cell_type": "markdown",
   "metadata": {},
   "source": [
    "<div style=\"font-size: 18px;\">   \n",
    "\n",
    "As we can notice from the results, it seems that our model has an **higher accuracy** than the authors models. It is necessary to consider that the dimension of the train and test data are different, since we tested our model using more training data. Moreover, our better performances might be due to the language filtering and the text cleaning that we have done in the preprocessing step.\n",
    "\n",
    "<br></div>"
   ]
  }
 ],
 "metadata": {
  "colab": {
   "provenance": []
  },
  "kernelspec": {
   "display_name": "Python 3 (ipykernel)",
   "language": "python",
   "name": "python3"
  },
  "language_info": {
   "codemirror_mode": {
    "name": "ipython",
    "version": 3
   },
   "file_extension": ".py",
   "mimetype": "text/x-python",
   "name": "python",
   "nbconvert_exporter": "python",
   "pygments_lexer": "ipython3",
   "version": "3.11.9"
  }
 },
 "nbformat": 4,
 "nbformat_minor": 4
}
