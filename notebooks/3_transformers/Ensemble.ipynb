{
 "cells": [
  {
   "cell_type": "markdown",
   "metadata": {},
   "source": [
    "# EXPERIMENTAL CLASSIFICATION WITH A COMPOSITION OF DIFFERENT MODELS \n",
    "\n",
    "by ChunkDevs (Group 1)"
   ]
  },
  {
   "cell_type": "markdown",
   "metadata": {
    "id": "qRQz7lPIxdwG"
   },
   "source": [
    "Ensemble learning uses multiple learning algorithms to obtain better predictive performance than\n",
    "could be obtained from any of the constituent learning algorithms alone by reducing the variance of\n",
    "single model. It is also one of the most popular\n",
    "approaches used by winners in many machine learning competitions.\n",
    "\n",
    "**Bagging, boosting and stacking**\n",
    "are three most widely used ensemble types.\n",
    "\n",
    "\n",
    "In this notebook, we load our presaved models, predict on the test set, and combine their predictions using the arithmetic average. Finally, we will compare the ensemble predictions with the true labels. "
   ]
  },
  {
   "cell_type": "code",
   "execution_count": 17,
   "metadata": {
    "id": "MAqOevA9vtUU"
   },
   "outputs": [],
   "source": [
    "import os\n",
    "import sys\n",
    "\n",
    "directory = os.getcwd().split(os.path.sep)\n",
    "root_index = directory.index(\"V_HLT\")\n",
    "root_path = os.path.sep.join(directory[:root_index+1])\n",
    "\n",
    "sys.path.append(root_path)\n",
    "\n",
    "\n",
    "import numpy as np\n",
    "import pandas as pd\n",
    "import matplotlib.pyplot as plt\n",
    "import seaborn as sns\n",
    "\n",
    "from sklearn.metrics import (\n",
    "    classification_report,\n",
    "    confusion_matrix,\n",
    ")\n",
    "\n",
    "from _chunkdevs.models import ModelHandler, ChunkDevs_Transformer, Build_Handle\n",
    "from _chunkdevs.data_functions import *"
   ]
  },
  {
   "cell_type": "code",
   "execution_count": 3,
   "metadata": {},
   "outputs": [],
   "source": [
    "dev_path = os.path.join(root_path, \"data\", \"processed\", \"english_tweets_dev_set.csv\")\n",
    "dev = pd.read_csv(dev_path, encoding=\"utf-8\", skipinitialspace=True)\n",
    "\n",
    "test_path = os.path.join(root_path, \"data\", \"processed\", \"english_tweets_test_set.csv\")\n",
    "test = pd.read_csv(test_path, encoding=\"utf-8\", skipinitialspace=True)\n",
    "\n",
    "model_path = os.path.join(root_path, \"outputs\", \"models\")"
   ]
  },
  {
   "cell_type": "code",
   "execution_count": 4,
   "metadata": {},
   "outputs": [],
   "source": [
    "X_dev = dev[\"tweet_text_cleaned\"]\n",
    "X_test = test[\"tweet_text\"]\n",
    "\n",
    "y_dev_bin = dev[\"cyberbullying_type_bin\"]\n",
    "y_test_bin = test[\"cyberbullying_type_bin\"]"
   ]
  },
  {
   "cell_type": "code",
   "execution_count": 5,
   "metadata": {},
   "outputs": [],
   "source": [
    "def ensemble_arithmetic_average(model1_preds, model2_preds):\n",
    "\n",
    "    return np.round(np.mean(np.array([model1_preds, model2_preds]), axis=0)).astype(int)"
   ]
  },
  {
   "cell_type": "markdown",
   "metadata": {},
   "source": [
    "# MODELS LOADING\n",
    "\n",
    "We loaded our pretrained models, using our `ModelHandler` class of our library."
   ]
  },
  {
   "cell_type": "code",
   "execution_count": null,
   "metadata": {},
   "outputs": [],
   "source": [
    "RANDOM_STATE = 42\n",
    "VAL_SIZE = 0.2\n",
    "BATCH_SIZE = 16\n",
    "EPOCHS = 2\n",
    "LEARNING_RATE = 2e-5\n",
    "EPS = 1e-8\n",
    "\n",
    "labels_name_bin = [\"not_cyberbullying\", \"cyberbullying\"]\n",
    "labels_name_multi = [\"age\", \"ethnicity\", \"gender\", \"not_cyberbullying\", \"other_cyberbullying\", \"religion\"]"
   ]
  },
  {
   "cell_type": "code",
   "execution_count": 6,
   "metadata": {},
   "outputs": [],
   "source": [
    "handler = ModelHandler(model_path)\n",
    "models_dict = handler.load_models([\"Bert_binary\", \"Roberta_binary\"])\n"
   ]
  },
  {
   "cell_type": "code",
   "execution_count": 7,
   "metadata": {},
   "outputs": [],
   "source": [
    "BERT_BIN_MODEL = models_dict[\"Bert_binary\"]\n",
    "ROBERTA_BIN_MODEL = models_dict[\"Roberta_binary\"]"
   ]
  },
  {
   "cell_type": "markdown",
   "metadata": {
    "id": "wY93rEArxc3D"
   },
   "source": [
    "# VOTING SCHEMA ATTEMPT"
   ]
  },
  {
   "cell_type": "markdown",
   "metadata": {},
   "source": [
    "## BINARY: BERT, ROBERTA AND ARITHMETIC MEAN AS A COMBINER"
   ]
  },
  {
   "cell_type": "markdown",
   "metadata": {},
   "source": [
    "Since only 2 models have been used during this ensemble approach, it is necessary to consider that if they give a different prediction, the tweet will be classified as a not cyberbullying message, since the np.round(np.mean([0,1])) = 0. \n",
    "The reason of this choice is to try avoiding the false flagging phenomenon, which is one of the most common harms of ML classificication models"
   ]
  },
  {
   "cell_type": "markdown",
   "metadata": {},
   "source": [
    "### BERT DATA LOADING"
   ]
  },
  {
   "cell_type": "code",
   "execution_count": 8,
   "metadata": {},
   "outputs": [],
   "source": [
    "build_test = Build_Handle(test[\"tweet_text\"], test[\"cyberbullying_type_bin\"], tokenizer=BERT_BIN_MODEL.tokenizer)\n",
    "dataloader_test = DataLoader(build_test, batch_size=BATCH_SIZE)"
   ]
  },
  {
   "cell_type": "markdown",
   "metadata": {},
   "source": [
    "### ROBERTA DATALOADING\n"
   ]
  },
  {
   "cell_type": "code",
   "execution_count": 9,
   "metadata": {},
   "outputs": [],
   "source": [
    "rob_build_test = Build_Handle(test[\"tweet_text\"], test[\"cyberbullying_type_bin\"], tokenizer=ROBERTA_BIN_MODEL.tokenizer)\n",
    "rob_dataloader_test = DataLoader(rob_build_test, batch_size=BATCH_SIZE)"
   ]
  },
  {
   "cell_type": "markdown",
   "metadata": {},
   "source": [
    "### PREDICTION PHASE"
   ]
  },
  {
   "cell_type": "code",
   "execution_count": 10,
   "metadata": {},
   "outputs": [
    {
     "name": "stderr",
     "output_type": "stream",
     "text": [
      "PREDICTING:: 2928it [00:07, 382.04it/s]                                                             8.90it/s]\u001b[0m"
     ]
    },
    {
     "name": "stdout",
     "output_type": "stream",
     "text": [
      "Prediction completed\n"
     ]
    },
    {
     "name": "stderr",
     "output_type": "stream",
     "text": [
      "\n"
     ]
    }
   ],
   "source": [
    "bert_preds = BERT_BIN_MODEL.predict(dataloader_test)"
   ]
  },
  {
   "cell_type": "code",
   "execution_count": 11,
   "metadata": {},
   "outputs": [
    {
     "name": "stderr",
     "output_type": "stream",
     "text": [
      "PREDICTING:: 2928it [00:06, 427.43it/s]                                                             7.89it/s]\u001b[0m"
     ]
    },
    {
     "name": "stdout",
     "output_type": "stream",
     "text": [
      "Prediction completed\n"
     ]
    },
    {
     "name": "stderr",
     "output_type": "stream",
     "text": [
      "\n"
     ]
    }
   ],
   "source": [
    "roberta_preds = ROBERTA_BIN_MODEL.predict(rob_dataloader_test)"
   ]
  },
  {
   "cell_type": "code",
   "execution_count": 18,
   "metadata": {},
   "outputs": [],
   "source": [
    "models_preds_df = pd.DataFrame({\"bert\": bert_preds, \n",
    "                    \"roberta\" : roberta_preds, \n",
    "                    \"labels\": y_test_bin})"
   ]
  },
  {
   "cell_type": "code",
   "execution_count": 19,
   "metadata": {},
   "outputs": [
    {
     "data": {
      "text/plain": [
       "array([1, 1, 1, ..., 1, 1, 1])"
      ]
     },
     "execution_count": 19,
     "metadata": {},
     "output_type": "execute_result"
    }
   ],
   "source": [
    "averaged_preds = ensemble_arithmetic_average(bert_preds, roberta_preds)\n",
    "averaged_preds"
   ]
  },
  {
   "cell_type": "code",
   "execution_count": 20,
   "metadata": {},
   "outputs": [
    {
     "name": "stdout",
     "output_type": "stream",
     "text": [
      "Classification Report for AVERAGE_PREDS :\n",
      "                    precision    recall  f1-score   support\n",
      "\n",
      "not_cyberbullying       0.52      0.83      0.64       487\n",
      "    cyberbullying       0.96      0.85      0.90      2435\n",
      "\n",
      "         accuracy                           0.85      2922\n",
      "        macro avg       0.74      0.84      0.77      2922\n",
      "     weighted avg       0.89      0.85      0.86      2922\n",
      "\n"
     ]
    }
   ],
   "source": [
    "print('Classification Report for AVERAGE_PREDS :\\n', classification_report(y_test_bin, averaged_preds, target_names = labels_name_bin))"
   ]
  },
  {
   "cell_type": "code",
   "execution_count": 21,
   "metadata": {},
   "outputs": [
    {
     "data": {
      "image/png": "[encoded data removed]",
      "text/plain": [
       "<Figure size 800x600 with 2 Axes>"
      ]
     },
     "metadata": {},
     "output_type": "display_data"
    }
   ],
   "source": [
    "cm = confusion_matrix(y_test_bin, averaged_preds)\n",
    "\n",
    "# Plotta la confusion matrix\n",
    "plt.figure(figsize=(8, 6))\n",
    "sns.heatmap(cm, annot=True, fmt='d', cmap='Blues', xticklabels=labels_name_bin, yticklabels=labels_name_bin)\n",
    "plt.xlabel('Predicted')\n",
    "plt.ylabel('True')\n",
    "plt.title(f'Confusion Matrix, all models')\n",
    "    \n",
    "#plt.savefig('Multi_rob_bin.png')\n",
    "plt.show()\n",
    "#plt.close()"
   ]
  },
  {
   "cell_type": "markdown",
   "metadata": {},
   "source": [
    "Judging by the results, this ensemble has equal a slightly higher f1-score, due to the high value of recall. Therefore, this model tends to classify as not cyberbullying a notable amount of cyberbullying messages, but it is less suffering from the false flagging phenomena. "
   ]
  }
 ],
 "metadata": {
  "colab": {
   "authorship_tag": "ABX9TyPUxXjbajglGtXjznKZnSZa",
   "provenance": []
  },
  "kernelspec": {
   "display_name": "Python 3 (ipykernel)",
   "language": "python",
   "name": "python3"
  },
  "language_info": {
   "codemirror_mode": {
    "name": "ipython",
    "version": 3
   },
   "file_extension": ".py",
   "mimetype": "text/x-python",
   "name": "python",
   "nbconvert_exporter": "python",
   "pygments_lexer": "ipython3",
   "version": "3.10.12"
  }
 },
 "nbformat": 4,
 "nbformat_minor": 4
}
